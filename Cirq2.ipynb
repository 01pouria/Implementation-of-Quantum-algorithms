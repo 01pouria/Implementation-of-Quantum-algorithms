{
 "cells": [
  {
   "cell_type": "code",
   "execution_count": 1,
   "id": "d5af4cb1",
   "metadata": {},
   "outputs": [
    {
     "name": "stdout",
     "output_type": "stream",
     "text": [
      "Requirement already satisfied: qsimcirq in c:\\users\\pourya\\anaconda3\\lib\\site-packages (0.21.0)\n",
      "Requirement already satisfied: typing-extensions in c:\\users\\pourya\\anaconda3\\lib\\site-packages (from qsimcirq) (4.12.2)\n",
      "Requirement already satisfied: numpy~=1.16 in c:\\users\\pourya\\anaconda3\\lib\\site-packages (from qsimcirq) (1.26.4)\n",
      "Requirement already satisfied: pybind11 in c:\\users\\pourya\\anaconda3\\lib\\site-packages (from qsimcirq) (2.13.1)\n",
      "Requirement already satisfied: absl-py in c:\\users\\pourya\\anaconda3\\lib\\site-packages (from qsimcirq) (2.1.0)\n",
      "Requirement already satisfied: setuptools in c:\\users\\pourya\\anaconda3\\lib\\site-packages (from qsimcirq) (58.0.4)\n",
      "Requirement already satisfied: cirq-core~=1.0 in c:\\users\\pourya\\anaconda3\\lib\\site-packages (from qsimcirq) (1.3.0)\n",
      "Requirement already satisfied: networkx>=2.4 in c:\\users\\pourya\\anaconda3\\lib\\site-packages (from cirq-core~=1.0->qsimcirq) (2.6.3)\n",
      "Requirement already satisfied: matplotlib~=3.0 in c:\\users\\pourya\\anaconda3\\lib\\site-packages (from cirq-core~=1.0->qsimcirq) (3.4.3)\n",
      "Requirement already satisfied: scipy in c:\\users\\pourya\\anaconda3\\lib\\site-packages (from cirq-core~=1.0->qsimcirq) (1.13.1)\n",
      "Requirement already satisfied: pandas in c:\\users\\pourya\\anaconda3\\lib\\site-packages (from cirq-core~=1.0->qsimcirq) (1.3.4)\n",
      "Requirement already satisfied: tqdm in c:\\users\\pourya\\anaconda3\\lib\\site-packages (from cirq-core~=1.0->qsimcirq) (4.62.3)\n",
      "Requirement already satisfied: duet~=0.2.8 in c:\\users\\pourya\\anaconda3\\lib\\site-packages (from cirq-core~=1.0->qsimcirq) (0.2.9)\n",
      "Requirement already satisfied: sortedcontainers~=2.0 in c:\\users\\pourya\\anaconda3\\lib\\site-packages (from cirq-core~=1.0->qsimcirq) (2.4.0)\n",
      "Requirement already satisfied: sympy in c:\\users\\pourya\\anaconda3\\lib\\site-packages (from cirq-core~=1.0->qsimcirq) (1.9)\n",
      "Requirement already satisfied: pyparsing>=2.2.1 in c:\\users\\pourya\\anaconda3\\lib\\site-packages (from matplotlib~=3.0->cirq-core~=1.0->qsimcirq) (3.0.4)\n",
      "Requirement already satisfied: pillow>=6.2.0 in c:\\users\\pourya\\anaconda3\\lib\\site-packages (from matplotlib~=3.0->cirq-core~=1.0->qsimcirq) (8.4.0)\n",
      "Requirement already satisfied: kiwisolver>=1.0.1 in c:\\users\\pourya\\anaconda3\\lib\\site-packages (from matplotlib~=3.0->cirq-core~=1.0->qsimcirq) (1.3.1)\n",
      "Requirement already satisfied: cycler>=0.10 in c:\\users\\pourya\\anaconda3\\lib\\site-packages (from matplotlib~=3.0->cirq-core~=1.0->qsimcirq) (0.10.0)\n",
      "Requirement already satisfied: python-dateutil>=2.7 in c:\\users\\pourya\\anaconda3\\lib\\site-packages (from matplotlib~=3.0->cirq-core~=1.0->qsimcirq) (2.8.2)\n",
      "Requirement already satisfied: six in c:\\users\\pourya\\anaconda3\\lib\\site-packages (from cycler>=0.10->matplotlib~=3.0->cirq-core~=1.0->qsimcirq) (1.16.0)\n",
      "Requirement already satisfied: pytz>=2017.3 in c:\\users\\pourya\\anaconda3\\lib\\site-packages (from pandas->cirq-core~=1.0->qsimcirq) (2023.3)\n",
      "Requirement already satisfied: mpmath>=0.19 in c:\\users\\pourya\\anaconda3\\lib\\site-packages (from sympy->cirq-core~=1.0->qsimcirq) (1.2.1)\n",
      "Requirement already satisfied: colorama in c:\\users\\pourya\\anaconda3\\lib\\site-packages (from tqdm->cirq-core~=1.0->qsimcirq) (0.4.4)\n"
     ]
    }
   ],
   "source": [
    "!pip install qsimcirq"
   ]
  },
  {
   "cell_type": "code",
   "execution_count": 2,
   "id": "c8885fc2",
   "metadata": {},
   "outputs": [],
   "source": [
    "import cirq\n",
    "import qsimcirq as qsim"
   ]
  },
  {
   "cell_type": "code",
   "execution_count": 3,
   "id": "c6e7617e",
   "metadata": {},
   "outputs": [
    {
     "name": "stdout",
     "output_type": "stream",
     "text": [
      "---Circuit---\n",
      "0: ───H───@───\n",
      "          │\n",
      "1: ───────X───\n",
      "\n",
      "---Cirq result---\n",
      "measurements: (no measurements)\n",
      "\n",
      "qubits: (cirq.LineQubit(0), cirq.LineQubit(1))\n",
      "output vector: 0.707|00⟩ + 0.707|11⟩\n",
      "\n",
      "phase:\n",
      "output vector: |⟩\n",
      "\n",
      "---Qsim Cirq result---\n",
      "measurements: (no measurements)\n",
      "\n",
      "qubits: (cirq.LineQubit(0), cirq.LineQubit(1))\n",
      "output vector: 0.707|00⟩ + 0.707|11⟩\n"
     ]
    }
   ],
   "source": [
    "q0,q1 = cirq.LineQubit.range(2)\n",
    "c = cirq.Circuit(cirq.H(q0),cirq.CX(q0,q1)) \n",
    "print('---Circuit---')\n",
    "print(c)\n",
    "print()\n",
    "\n",
    "print('---Cirq result---')\n",
    "cs=cirq.Simulator()\n",
    "cr=cs.simulate(c)\n",
    "print(cr)\n",
    "print()\n",
    "\n",
    "print('---Qsim Cirq result---')\n",
    "qsims=qsim.QSimSimulator()\n",
    "qsimr=qsims.simulate(c)\n",
    "print(qsimr)"
   ]
  },
  {
   "cell_type": "code",
   "execution_count": 4,
   "id": "78926f11",
   "metadata": {},
   "outputs": [
    {
     "name": "stdout",
     "output_type": "stream",
     "text": [
      "[[0 0]\n",
      " [0 0]\n",
      " [0 0]\n",
      " [0 0]\n",
      " [0 0]\n",
      " [1 1]\n",
      " [1 1]\n",
      " [0 0]\n",
      " [1 1]\n",
      " [0 0]]\n"
     ]
    }
   ],
   "source": [
    "sample = cirq.sample_state_vector(qsimr.state_vector(),indices=[0,1],repetitions=10)\n",
    "print(sample)"
   ]
  },
  {
   "cell_type": "code",
   "execution_count": 5,
   "id": "643bb473",
   "metadata": {},
   "outputs": [
    {
     "name": "stdout",
     "output_type": "stream",
     "text": [
      "---Circuit---\n",
      "0: ───H───@───M('qubit0')───\n",
      "          │\n",
      "1: ───X───X───M('qubit1')───\n",
      "\n",
      "---Cirq result---\n",
      "qubit0=1110111011\n",
      "qubit1=0001000100\n",
      "\n",
      "---Qsim Cirq result---\n",
      "qubit0=0000001111\n",
      "qubit1=1111110000\n"
     ]
    }
   ],
   "source": [
    "q0,q1 = cirq.LineQubit.range(2)\n",
    "c = cirq.Circuit(\n",
    "    cirq.H(q0),cirq.X(q1),cirq.CX(q0,q1),\n",
    "    cirq.measure(q0,key='qubit0'),\n",
    "    cirq.measure(q1,key='qubit1'),\n",
    "                ) \n",
    "print('---Circuit---')\n",
    "print(c)\n",
    "print()\n",
    "\n",
    "print('---Cirq result---')\n",
    "cs=cirq.Simulator()\n",
    "cr=cs.run(c,repetitions=10)\n",
    "print(cr)\n",
    "print()\n",
    "\n",
    "print('---Qsim Cirq result---')\n",
    "qsims=qsim.QSimSimulator()\n",
    "qsimr=qsims.run(c,repetitions=10)\n",
    "print(qsimr)"
   ]
  },
  {
   "cell_type": "code",
   "execution_count": 6,
   "id": "cd4651c2",
   "metadata": {},
   "outputs": [
    {
     "name": "stdout",
     "output_type": "stream",
     "text": [
      "---Circuit---\n",
      "0: ───X^0.5───M('m0')───X^0.5───M('m1')───X^0.5───M('m2')───\n",
      "\n",
      "---Qsim Cirq result---\n",
      "m0=0011111100\n",
      "m1=1011001100\n",
      "m2=0100011011\n"
     ]
    }
   ],
   "source": [
    "q0 = cirq.LineQubit(0)\n",
    "c = cirq.Circuit(\n",
    "    cirq.X(q0)**0.5,cirq.measure(q0,key='m0'),\n",
    "    cirq.X(q0)**0.5,cirq.measure(q0,key='m1'),\n",
    "    cirq.X(q0)**0.5,cirq.measure(q0,key='m2')\n",
    "                ) \n",
    "print('---Circuit---')\n",
    "print(c)\n",
    "print()\n",
    "\n",
    "print('---Qsim Cirq result---')\n",
    "qsims=qsim.QSimSimulator()\n",
    "qsimr=qsims.run(c,repetitions=10)\n",
    "print(qsimr)"
   ]
  },
  {
   "cell_type": "code",
   "execution_count": 7,
   "id": "ac5471ac",
   "metadata": {},
   "outputs": [],
   "source": [
    "# Using parameter sweeps\n",
    "import sympy\n",
    "q0 = cirq.GridQubit(1,1)\n",
    "c = cirq.Circuit(cirq.X(q0)**sympy.Symbol('t'),cirq.measure(q0,key='pouriya'))\n",
    "\n",
    "param_s = cirq.Linspace('t',start=0,stop=4,length=200)\n",
    "\n",
    "rep = 10**3\n",
    "s = cirq.Simulator()\n",
    "trials = s.run_sweep(c,param_s,repetitions=rep)"
   ]
  },
  {
   "cell_type": "code",
   "execution_count": 8,
   "id": "b4ee65c3",
   "metadata": {},
   "outputs": [
    {
     "data": {
      "image/png": "[encoded data removed]",
      "text/plain": [
       "<Figure size 432x288 with 1 Axes>"
      ]
     },
     "metadata": {
      "needs_background": "light"
     },
     "output_type": "display_data"
    }
   ],
   "source": [
    "import matplotlib.pyplot as plt \n",
    "\n",
    "x=[]\n",
    "for trial in trials:\n",
    "    x.append(trial.params['t'])\n",
    "\n",
    "y=[]\n",
    "for trial in trials:\n",
    "    y.append(trial.histogram(key='pouriya')[1] / rep)\n",
    "\n",
    "plt.plot(x,y)\n",
    "plt.xlabel('t')\n",
    "plt.ylabel('p')\n",
    "plt.show()"
   ]
  },
  {
   "cell_type": "code",
   "execution_count": 9,
   "id": "535e08ad",
   "metadata": {},
   "outputs": [
    {
     "data": {
      "image/png": "[encoded data removed]",
      "text/plain": [
       "<Figure size 432x288 with 1 Axes>"
      ]
     },
     "metadata": {
      "needs_background": "light"
     },
     "output_type": "display_data"
    }
   ],
   "source": [
    "x1 = [trial.params['t'] for trial in trials]\n",
    "y1 = [trial.histogram(key='pouriya')[1] / rep for trial in trials]\n",
    "plt.plot(x1,y1)\n",
    "plt.xlabel('t')\n",
    "plt.ylabel('p')\n",
    "plt.show()"
   ]
  },
  {
   "cell_type": "code",
   "execution_count": 10,
   "id": "3b32e5af",
   "metadata": {
    "scrolled": true
   },
   "outputs": [
    {
     "name": "stdout",
     "output_type": "stream",
     "text": [
      "----X gate----\n",
      "[[0.+0.j 1.+0.j]\n",
      " [1.+0.j 0.+0.j]]\n",
      "----SWAP gate----\n",
      "[[1.+0.j 0.+0.j 0.+0.j 0.+0.j]\n",
      " [0.+0.j 0.+0.j 1.+0.j 0.+0.j]\n",
      " [0.+0.j 1.+0.j 0.+0.j 0.+0.j]\n",
      " [0.+0.j 0.+0.j 0.+0.j 1.+0.j]]\n",
      "----Circuit----\n",
      "[[ 0.70710678+0.j  0.        +0.j  0.70710678+0.j  0.        +0.j]\n",
      " [ 0.70710678+0.j -0.        +0.j -0.70710678+0.j -0.        +0.j]\n",
      " [ 0.        +0.j  0.70710678+0.j  0.        +0.j  0.70710678+0.j]\n",
      " [-0.        +0.j  0.70710678+0.j -0.        +0.j -0.70710678+0.j]]\n"
     ]
    }
   ],
   "source": [
    "# Unitary matrices and decompositions\n",
    "print('----X gate----')\n",
    "print(cirq.unitary(cirq.X))\n",
    "print('----SWAP gate----')\n",
    "print(cirq.unitary(cirq.SWAP))\n",
    "print('----Circuit----')\n",
    "q0,q1 = cirq.LineQubit.range(2)\n",
    "print(cirq.unitary(cirq.Circuit( cirq.H(q0) ,cirq.SWAP(q0,q1) )))"
   ]
  },
  {
   "cell_type": "code",
   "execution_count": 11,
   "id": "358e69a1",
   "metadata": {},
   "outputs": [
    {
     "name": "stdout",
     "output_type": "stream",
     "text": [
      "[(cirq.Y**0.5).on(cirq.LineQubit(0)), cirq.XPowGate(global_shift=-0.25).on(cirq.LineQubit(0))]\n"
     ]
    }
   ],
   "source": [
    "q0 = cirq.LineQubit(0)\n",
    "print(cirq.decompose(cirq.H(q0)))"
   ]
  },
  {
   "cell_type": "code",
   "execution_count": 12,
   "id": "3332a96f",
   "metadata": {},
   "outputs": [
    {
     "name": "stdout",
     "output_type": "stream",
     "text": [
      "Gates number : 35\n",
      "\n",
      "Y**0.5(q(2))\n",
      "XPowGate(exponent=1.0, global_shift=-0.25)(q(2))\n",
      "T(q(0))\n",
      "T(q(1))\n",
      "T(q(2))\n",
      "Y**-0.5(q(1))\n",
      "CZ(q(0), q(1))\n",
      "Y**0.5(q(1))\n",
      "Y**-0.5(q(2))\n",
      "CZ(q(1), q(2))\n",
      "Y**0.5(q(2))\n",
      "T**-1(q(1))\n",
      "T(q(2))\n",
      "Y**-0.5(q(1))\n",
      "CZ(q(0), q(1))\n",
      "Y**0.5(q(1))\n",
      "Y**-0.5(q(2))\n",
      "CZ(q(1), q(2))\n",
      "Y**0.5(q(2))\n",
      "T**-1(q(2))\n",
      "Y**-0.5(q(1))\n",
      "CZ(q(0), q(1))\n",
      "Y**0.5(q(1))\n",
      "Y**-0.5(q(2))\n",
      "CZ(q(1), q(2))\n",
      "Y**0.5(q(2))\n",
      "T**-1(q(2))\n",
      "Y**-0.5(q(1))\n",
      "CZ(q(0), q(1))\n",
      "Y**0.5(q(1))\n",
      "Y**-0.5(q(2))\n",
      "CZ(q(1), q(2))\n",
      "Y**0.5(q(2))\n",
      "Y**0.5(q(2))\n",
      "XPowGate(exponent=1.0, global_shift=-0.25)(q(2))\n"
     ]
    }
   ],
   "source": [
    "q0,q1,q2 = cirq.LineQubit.range(3)\n",
    "d_toffoli=cirq.decompose(cirq.TOFFOLI(q0,q1,q2))\n",
    "print('Gates number :',len(d_toffoli))\n",
    "print()\n",
    "for i in d_toffoli:\n",
    "    print(i)"
   ]
  },
  {
   "cell_type": "code",
   "execution_count": 13,
   "id": "2be8bf03",
   "metadata": {},
   "outputs": [
    {
     "name": "stdout",
     "output_type": "stream",
     "text": [
      "Before optimization: 3\n",
      "After optimization: 1\n"
     ]
    }
   ],
   "source": [
    "# Optimizers\n",
    "\n",
    "q0 = cirq.LineQubit(0)\n",
    "c = cirq.Circuit()\n",
    "c.append(cirq.Moment([]))\n",
    "c.append(cirq.Moment([cirq.H(q0)]))\n",
    "c.append(cirq.Moment([]))\n",
    "\n",
    "print('Before optimization:', len(c))\n",
    "\n",
    "# Use the drop_empty_moments function\n",
    "c = cirq.drop_empty_moments(c)\n",
    "\n",
    "print('After optimization:', len(c))"
   ]
  },
  {
   "cell_type": "code",
   "execution_count": 25,
   "id": "50f8c5f8",
   "metadata": {},
   "outputs": [
    {
     "name": "stdout",
     "output_type": "stream",
     "text": [
      "bit_flip(p=0.1)\n",
      "number of qubits : 1\n",
      "\n",
      "Keras operator : 0\n",
      "Keras operator : [[0.9486833 0.       ]\n",
      " [0.        0.9486833]]\n",
      "Keras operator : 1\n",
      "Keras operator : [[0.        +0.j 0.31622777+0.j]\n",
      " [0.31622777+0.j 0.        +0.j]]\n"
     ]
    }
   ],
   "source": [
    "#noise\n",
    "bf = cirq.bit_flip(p=0.1)\n",
    "print(bf)\n",
    "nmuber_of_qubit = bf.num_qubits()\n",
    "print(f\"number of qubits : {nmuber_of_qubit}\")\n",
    "print()\n",
    "for i,kraus in enumerate(cirq.kraus(bf)):\n",
    "    print(f\"Keras operator : {i}\")\n",
    "    print(f\"Keras operator : {kraus}\")"
   ]
  },
  {
   "cell_type": "code",
   "execution_count": 28,
   "id": "e5157075",
   "metadata": {},
   "outputs": [
    {
     "name": "stdout",
     "output_type": "stream",
     "text": [
      "Circuit with bit flip gate :  0: ───BF(0.1)───\n"
     ]
    }
   ],
   "source": [
    "q = cirq.LineQubit(0)\n",
    "c = cirq.Circuit(bf(q))\n",
    "print('Circuit with bit flip gate : ',c)"
   ]
  },
  {
   "cell_type": "code",
   "execution_count": 32,
   "id": "6a28d495",
   "metadata": {},
   "outputs": [
    {
     "name": "stdout",
     "output_type": "stream",
     "text": [
      "Circuit with multi bit flip gate effect on qubits:\n",
      "\n",
      "  0: ───BF(0.1)───\n",
      "\n",
      "1: ───BF(0.1)───\n",
      "\n",
      "2: ───BF(0.1)───\n"
     ]
    }
   ],
   "source": [
    "c = cirq.Circuit(bf.on_each(cirq.LineQubit.range(3)))\n",
    "print('Circuit with multi bit flip gate effect on qubits:\\n\\n ',c)"
   ]
  },
  {
   "cell_type": "code",
   "execution_count": 37,
   "id": "79022742",
   "metadata": {},
   "outputs": [
    {
     "name": "stdout",
     "output_type": "stream",
     "text": [
      "0: ───@─────────\n",
      "      │\n",
      "1: ───BF(0.1)───\n"
     ]
    }
   ],
   "source": [
    "cbf = bf.controlled(num_controls=1)\n",
    "c = cirq.Circuit(cbf(*cirq.LineQubit.range(2)))\n",
    "print(c)"
   ]
  },
  {
   "cell_type": "code",
   "execution_count": 38,
   "id": "80d844ba",
   "metadata": {},
   "outputs": [
    {
     "name": "stdout",
     "output_type": "stream",
     "text": [
      "0: ───@─────────\n",
      "      │\n",
      "1: ───@─────────\n",
      "      │\n",
      "2: ───BF(0.1)───\n"
     ]
    }
   ],
   "source": [
    "cbf = bf.controlled(num_controls=2)\n",
    "c = cirq.Circuit(cbf(*cirq.LineQubit.range(3)))\n",
    "print(c)"
   ]
  },
  {
   "cell_type": "code",
   "execution_count": 46,
   "id": "c8b4a866",
   "metadata": {},
   "outputs": [],
   "source": [
    "#cirq.amplitude_damp? == help(cirq.amplitude_damp)"
   ]
  },
  {
   "cell_type": "code",
   "execution_count": 49,
   "id": "28444905",
   "metadata": {},
   "outputs": [
    {
     "name": "stdout",
     "output_type": "stream",
     "text": [
      "0: ───A(0.1,0.02,0.2)───\n"
     ]
    }
   ],
   "source": [
    "dp=cirq.asymmetric_depolarize(p_x=0.1,p_y=0.02,p_z=0.2)\n",
    "c = cirq.Circuit( dp.on_each(cirq.LineQubit(0)) )\n",
    "print(c)"
   ]
  },
  {
   "cell_type": "code",
   "execution_count": 50,
   "id": "d27cce27",
   "metadata": {},
   "outputs": [
    {
     "name": "stdout",
     "output_type": "stream",
     "text": [
      "bit_flip(p=0.1)\n",
      "\n",
      "probibility operator : 0\n",
      "Keras operator : (0.9, array([[1., 0.],\n",
      "       [0., 1.]]))\n",
      "probibility operator : 1\n",
      "Keras operator : (0.1, array([[0.+0.j, 1.+0.j],\n",
      "       [1.+0.j, 0.+0.j]]))\n"
     ]
    }
   ],
   "source": [
    "# The channel and mixture protocols\n",
    "bf = cirq.bit_flip(p=0.1)\n",
    "print(bf)\n",
    "print()\n",
    "for prob,kraus in enumerate(cirq.mixture(bf)):\n",
    "    print(f\"probibility operator : {prob}\")\n",
    "    print(f\"Keras operator : {kraus}\")"
   ]
  },
  {
   "cell_type": "code",
   "execution_count": 60,
   "id": "3e3af28b",
   "metadata": {},
   "outputs": [
    {
     "name": "stdout",
     "output_type": "stream",
     "text": [
      "has mixture ?\n",
      "amplitude_damp :  False   |  bit_flip :  True\n"
     ]
    }
   ],
   "source": [
    "chn=cirq.amplitude_damp(0.1)\n",
    "bf = cirq.bit_flip(p=0.1)\n",
    "print('has mixture ?')\n",
    "print('amplitude_damp : ',cirq.has_mixture(chn),'  |  bit_flip : ',cirq.has_mixture(bf))"
   ]
  },
  {
   "cell_type": "code",
   "execution_count": 75,
   "id": "9397acff",
   "metadata": {},
   "outputs": [],
   "source": [
    "# Custom channels(bitflip noise with probibility 0.1)\n",
    "import numpy as np\n",
    "mix = [\n",
    "    (0.9,np.array([[1,0],[0,1]] ,dtype=np.complex64)),\n",
    "    (0.1,np.array([[0,1],[1,0]] ,dtype=np.complex64))\n",
    "]\n",
    "\n",
    "bf = cirq.MixedUnitaryChannel(mix)\n",
    "\n",
    "# Custom channels(X-basis Measurement)\n",
    "opr = [\n",
    "    np.array([[1,0],[0,1]]) *0.5 ,\n",
    "    np.array([[0,1],[1,0]]) *0.5 ,\n",
    "]\n",
    "\n",
    "x_measure = cirq.KrausChannel(opr,key='Xx')"
   ]
  },
  {
   "cell_type": "code",
   "execution_count": 79,
   "id": "36cd43d2",
   "metadata": {},
   "outputs": [
    {
     "data": {
      "text/html": [
       "<pre style=\"overflow: auto; white-space: pre;\">      MixedUnitaryChannel([(0.9, array([[1.+0.j, 0.+0.j],                               KrausChannel([array([[0.5, 0. ],\n",
       "0: ───       [0.+0.j, 1.+0.j]], dtype=complex64)), (0.1, array([[0.+0.j, 1.+0.j],───H───       [0. , 0.5]]), array([[0. , 0.5],───\n",
       "             [1.+0.j, 0.+0.j]], dtype=complex64))])                                            [0.5, 0. ]])], key=Xx)</pre>"
      ],
      "text/plain": [
       "      MixedUnitaryChannel([(0.9, array([[1.+0.j, 0.+0.j],                               KrausChannel([array([[0.5, 0. ],\n",
       "0: ───       [0.+0.j, 1.+0.j]], dtype=complex64)), (0.1, array([[0.+0.j, 1.+0.j],───H───       [0. , 0.5]]), array([[0. , 0.5],───\n",
       "             [1.+0.j, 0.+0.j]], dtype=complex64))])                                            [0.5, 0. ]])], key=Xx)"
      ]
     },
     "execution_count": 79,
     "metadata": {},
     "output_type": "execute_result"
    }
   ],
   "source": [
    "q0 = cirq.LineQubit(0)\n",
    "c = cirq.Circuit(bf.on(q0),cirq.H(q0),x_measure.on(q0))\n",
    "c"
   ]
  },
  {
   "cell_type": "code",
   "execution_count": 81,
   "id": "be7900e6",
   "metadata": {},
   "outputs": [
    {
     "data": {
      "text/html": [
       "<pre style=\"overflow: auto; white-space: pre;\">0: ───BF(0.1)───H───H───M(&#x27;x&#x27;)───H───</pre>"
      ],
      "text/plain": [
       "0: ───BF(0.1)───H───H───M('x')───H───"
      ]
     },
     "execution_count": 81,
     "metadata": {},
     "output_type": "execute_result"
    }
   ],
   "source": [
    "c1= cirq.Circuit(\n",
    "    cirq.bit_flip(0.1).on(q0),cirq.H(q0),cirq.H(q0),cirq.measure(q0,key='x'),cirq.H(q0)\n",
    ")\n",
    "c1"
   ]
  },
  {
   "cell_type": "code",
   "execution_count": 86,
   "id": "59d22f86",
   "metadata": {},
   "outputs": [],
   "source": [
    "# The channel and mixture protocols\n",
    "\n",
    "class qorpiBitFlip(cirq.Gate):\n",
    "    def __init__(self,p:float) -> None :\n",
    "        self._p = p\n",
    "    \n",
    "    def _num_qubits_(self):\n",
    "        return 1\n",
    "    \n",
    "    def _mixture_(self):\n",
    "        ps = [1 - self._p,self._p]\n",
    "        opr = [cirq.unitary(cirq.I),cirq.unitary(cirq.Y)]\n",
    "        return tuple(zip(ps,opr))\n",
    "    \n",
    "    def _has_mixture_(self) -> bool:\n",
    "        return True\n",
    "    \n",
    "    def _circuit_diagram_info_(self,args) -> str:\n",
    "        return f\"qorpiBitFlip({self._p})\""
   ]
  },
  {
   "cell_type": "code",
   "execution_count": 101,
   "id": "acba9e24",
   "metadata": {},
   "outputs": [
    {
     "name": "stdout",
     "output_type": "stream",
     "text": [
      "probibility operator : 0\n",
      "Keras operator : (0.9, array([[1., 0.],\n",
      "       [0., 1.]]))\n",
      "probibility operator : 1\n",
      "Keras operator : (0.1, array([[0.+0.j, 0.-1.j],\n",
      "       [0.+1.j, 0.+0.j]]))\n"
     ]
    }
   ],
   "source": [
    "qbp=qorpiBitFlip(p=0.1)\n",
    "\n",
    "for prob,kraus in enumerate(cirq.mixture(qbp)):\n",
    "    print(f\"probibility operator : {prob}\")\n",
    "    print(f\"Keras operator : {kraus}\")"
   ]
  },
  {
   "cell_type": "code",
   "execution_count": 109,
   "id": "da3fbe93",
   "metadata": {},
   "outputs": [
    {
     "name": "stdout",
     "output_type": "stream",
     "text": [
      "Circuit : \n",
      "(0, 0): ───X───AD(0.1)───\n",
      "final Density Matrix : \n",
      "[[0.1       +0.j 0.        +0.j]\n",
      " [0.        +0.j 0.90000004+0.j]]\n"
     ]
    }
   ],
   "source": [
    "# simulatin noisy circuits\n",
    "q = cirq.GridQubit(0,0)\n",
    "c = cirq.Circuit(cirq.X(q),cirq.amplitude_damp(0.1)(q))\n",
    "print('Circuit : ')\n",
    "print(c)\n",
    "\n",
    "dms = cirq.DensityMatrixSimulator()\n",
    "rh = dms.simulate(c).final_density_matrix\n",
    "print('final Density Matrix : ')\n",
    "print(rh)"
   ]
  },
  {
   "cell_type": "code",
   "execution_count": 151,
   "id": "ee353378",
   "metadata": {},
   "outputs": [
    {
     "name": "stdout",
     "output_type": "stream",
     "text": [
      "Circuit : \n",
      "(0, 0): ───BF(0.5)───\n",
      "final wave function : \n",
      "|0⟩\n"
     ]
    }
   ],
   "source": [
    "# monte carlo wave function simulator\n",
    "q = cirq.GridQubit(0,0)\n",
    "c = cirq.Circuit(cirq.bit_flip(0.5).on(q))\n",
    "print('Circuit : ')\n",
    "print(c)\n",
    "\n",
    "s = cirq.Simulator()\n",
    "psy = s.simulate(c).dirac_notation() \n",
    "print('final wave function : ')\n",
    "print(psy)"
   ]
  },
  {
   "cell_type": "code",
   "execution_count": 181,
   "id": "9791ec19",
   "metadata": {},
   "outputs": [
    {
     "name": "stdout",
     "output_type": "stream",
     "text": [
      "Circuit : \n",
      "(0, 0): ───BF(0.5)───M───\n",
      "Counter({1: 60, 0: 40})\n"
     ]
    }
   ],
   "source": [
    "c = cirq.Circuit(cirq.bit_flip(0.5).on(q),cirq.measure(q))\n",
    "print('Circuit : ')\n",
    "print(c)\n",
    "result = s.run(c,repetitions=10**2)\n",
    "print(result.histogram(key=q))"
   ]
  },
  {
   "cell_type": "code",
   "execution_count": 196,
   "id": "9e5c0585",
   "metadata": {},
   "outputs": [
    {
     "name": "stdout",
     "output_type": "stream",
     "text": [
      "Circuit : \n",
      "0: ───H───@───\n",
      "          │\n",
      "1: ───────X───\n",
      "--------------------------\n",
      "measurements: (no measurements)\n",
      "\n",
      "qubits: (cirq.LineQubit(0), cirq.LineQubit(1))\n",
      "output vector: 0.707|00⟩ + 0.707|11⟩\n",
      "\n",
      "phase:\n",
      "output vector: |⟩\n",
      "--------------------------\n",
      "0: ───H───BF(0.01)[cirq.VirtualTag()]───@───BF(0.01)[cirq.VirtualTag()]───\n",
      "                                        │\n",
      "1: ───────BF(0.01)[cirq.VirtualTag()]───X───BF(0.01)[cirq.VirtualTag()]───\n",
      "--------------------------\n",
      "measurements: (no measurements)\n",
      "\n",
      "qubits: (cirq.LineQubit(0), cirq.LineQubit(1))\n",
      "output vector: 0.707|00⟩ + 0.707|11⟩\n",
      "\n",
      "phase:\n",
      "output vector: |⟩\n"
     ]
    }
   ],
   "source": [
    "# adding noise to Circuits\n",
    "q0 = cirq.LineQubit(0)\n",
    "q1 = cirq.LineQubit(1)\n",
    "\n",
    "c = cirq.Circuit(cirq.H(q0),cirq.CNOT(q0,q1))\n",
    "print('Circuit : ')\n",
    "print(c)\n",
    "print('--------------------------')\n",
    "\n",
    "s = cirq.Simulator()\n",
    "psy = s.simulate(c)\n",
    "print(psy)\n",
    "print('--------------------------')\n",
    "\n",
    "noisy_circuit = c.with_noise(cirq.bit_flip(0.01))\n",
    "print(noisy_circuit)\n",
    "print('--------------------------')\n",
    "noisy_psy = s.simulate(noisy_circuit)\n",
    "print(noisy_psy)"
   ]
  }
 ],
 "metadata": {
  "kernelspec": {
   "display_name": "Python 3 (ipykernel)",
   "language": "python",
   "name": "python3"
  },
  "language_info": {
   "codemirror_mode": {
    "name": "ipython",
    "version": 3
   },
   "file_extension": ".py",
   "mimetype": "text/x-python",
   "name": "python",
   "nbconvert_exporter": "python",
   "pygments_lexer": "ipython3",
   "version": "3.9.7"
  }
 },
 "nbformat": 4,
 "nbformat_minor": 5
}
