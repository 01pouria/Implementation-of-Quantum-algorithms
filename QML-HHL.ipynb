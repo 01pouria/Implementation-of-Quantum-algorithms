{
 "cells": [
  {
   "cell_type": "code",
   "execution_count": 22,
   "id": "f4952806",
   "metadata": {},
   "outputs": [
    {
     "name": "stdout",
     "output_type": "stream",
     "text": [
      "ancilla: ────────────────────────Ry(theta)───M('result')───\n",
      "                                 │\n",
      "                   ┌   ┐         │\n",
      "memory_0: ─────────│0 1│─────────┼─────────────────────────\n",
      "                   │1 0│         │\n",
      "                   └   ┘         │\n",
      "                   │             │\n",
      "register_0: ───H───@───────qft───@───────────qft^-1────────\n",
      "                           │                 │\n",
      "register_1: ───H───────────#2────────────────#2────────────\n",
      "Counter({0: 964, 1: 36})\n"
     ]
    }
   ],
   "source": [
    "# Harrow Hassidim Lloyd algorithm(HHL)\n",
    "\n",
    "#import necessary frameworks\n",
    "import cirq \n",
    "import numpy as np \n",
    "import sympy\n",
    "\n",
    "# define the matrix A and vector b\n",
    "A = np.array([[0,1],[1,0]])\n",
    "b = np.array([1,0])\n",
    "\n",
    "# create qubits\n",
    "ancilla = cirq.NamedQubit('ancilla')\n",
    "register = [ cirq.NamedQubit(f\"register_{i}\") for i in range(2) ]\n",
    "memory = [ cirq.NamedQubit(f\"memory_{i}\") for i in range(2) ]\n",
    "\n",
    "# define circuit \n",
    "circuit = cirq.Circuit()\n",
    "\n",
    "# Quantum phase estimation\n",
    "circuit.append(cirq.H.on_each(register))\n",
    "circuit.append(cirq.ControlledGate(cirq.MatrixGate(A)).on(register[0],memory[0]))\n",
    "circuit.append(cirq.qft(*register))\n",
    "\n",
    "# Controlled rotations\n",
    "theta = sympy.Symbol('theta')\n",
    "circuit.append(cirq.ry(theta).controlled().on(register[0],ancilla))\n",
    "\n",
    "# Inverse QPE\n",
    "circuit.append(cirq.qft(*register,inverse=True))\n",
    "\n",
    "# Measure the ancilla \n",
    "circuit.append(cirq.measure(ancilla, key='result'))\n",
    "\n",
    "print(circuit)\n",
    "\n",
    "# simulate\n",
    "sim = cirq.Simulator()\n",
    "r = sim.run(circuit, param_resolver = {theta : np.pi / 4},repetitions=1000)\n",
    "print(r.histogram(key='result'))"
   ]
  }
 ],
 "metadata": {
  "kernelspec": {
   "display_name": "Python 3 (ipykernel)",
   "language": "python",
   "name": "python3"
  },
  "language_info": {
   "codemirror_mode": {
    "name": "ipython",
    "version": 3
   },
   "file_extension": ".py",
   "mimetype": "text/x-python",
   "name": "python",
   "nbconvert_exporter": "python",
   "pygments_lexer": "ipython3",
   "version": "3.9.7"
  }
 },
 "nbformat": 4,
 "nbformat_minor": 5
}
