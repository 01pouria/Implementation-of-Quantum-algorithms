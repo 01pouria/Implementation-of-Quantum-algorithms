{
 "cells": [
  {
   "cell_type": "code",
   "execution_count": 49,
   "id": "7c0157b7",
   "metadata": {},
   "outputs": [],
   "source": [
    "import cirq\n",
    "\n",
    "def bitToString(bits):\n",
    "    return ''.join('1' if bit else '0' for bit in bits)\n",
    "\n",
    "def superDenseCodeing(msg='00'):\n",
    "    #define Qubits\n",
    "    qubit =cirq.LineQubit.range(2) \n",
    "    c = cirq.Circuit()\n",
    "    \n",
    "    #define message gates\n",
    "    message = {\n",
    "        '00':[],\n",
    "        '01':[cirq.Z(qubit[0])],\n",
    "        '10':[cirq.X(qubit[0])],\n",
    "        '11':[cirq.X(qubit[0]),cirq.Z(qubit[0])]\n",
    "    }\n",
    "    #alice moment in circuit\n",
    "    c.append(cirq.H(qubit[0]))\n",
    "    c.append(cirq.CNOT(qubit[0],qubit[1]))\n",
    "    \n",
    "    #message moment in circuit\n",
    "    c.append(message[msg])\n",
    "    \n",
    "    #message moment in circuit\n",
    "    c.append(cirq.CNOT(qubit[0],qubit[1]))\n",
    "    \n",
    "    #bob moment in circuit\n",
    "    c.append(cirq.H(qubit[0]))\n",
    "    c.append([cirq.measure(qubit[0]),cirq.measure(qubit[1])])\n",
    "    \n",
    "    s = cirq.Simulator()\n",
    "    result = s.run(c, repetitions=1)\n",
    "    mb=bitToString(result.measurements.values())\n",
    "    msg = {'Send message':msg,'Recive message':mb}\n",
    "    return msg,c"
   ]
  },
  {
   "cell_type": "code",
   "execution_count": 54,
   "id": "b0daf4c0",
   "metadata": {},
   "outputs": [
    {
     "data": {
      "text/plain": [
       "({'Send message': '00', 'Recive message': '00'},\n",
       " 0: ───H───@───@───H───M───\n",
       "          │   │\n",
       "1: ───────X───X───M───────)"
      ]
     },
     "execution_count": 54,
     "metadata": {},
     "output_type": "execute_result"
    }
   ],
   "source": [
    "superDenseCodeing('00')"
   ]
  },
  {
   "cell_type": "code",
   "execution_count": 55,
   "id": "9a7121a9",
   "metadata": {},
   "outputs": [
    {
     "data": {
      "text/plain": [
       "({'Send message': '10', 'Recive message': '10'},\n",
       " 0: ───H───@───X───@───H───M───\n",
       "          │       │\n",
       "1: ───────X───────X───M───────)"
      ]
     },
     "execution_count": 55,
     "metadata": {},
     "output_type": "execute_result"
    }
   ],
   "source": [
    "superDenseCodeing('10')"
   ]
  },
  {
   "cell_type": "code",
   "execution_count": 56,
   "id": "72a10400",
   "metadata": {},
   "outputs": [
    {
     "data": {
      "text/plain": [
       "({'Send message': '01', 'Recive message': '01'},\n",
       " 0: ───H───@───Z───@───H───M───\n",
       "          │       │\n",
       "1: ───────X───────X───M───────)"
      ]
     },
     "execution_count": 56,
     "metadata": {},
     "output_type": "execute_result"
    }
   ],
   "source": [
    "superDenseCodeing('01')"
   ]
  },
  {
   "cell_type": "code",
   "execution_count": 57,
   "id": "b83c4ea0",
   "metadata": {},
   "outputs": [
    {
     "data": {
      "text/plain": [
       "({'Send message': '11', 'Recive message': '11'},\n",
       " 0: ───H───@───X───Z───@───H───M───\n",
       "          │           │\n",
       "1: ───────X───────────X───M───────)"
      ]
     },
     "execution_count": 57,
     "metadata": {},
     "output_type": "execute_result"
    }
   ],
   "source": [
    "superDenseCodeing('11')"
   ]
  }
 ],
 "metadata": {
  "kernelspec": {
   "display_name": "Python 3 (ipykernel)",
   "language": "python",
   "name": "python3"
  },
  "language_info": {
   "codemirror_mode": {
    "name": "ipython",
    "version": 3
   },
   "file_extension": ".py",
   "mimetype": "text/x-python",
   "name": "python",
   "nbconvert_exporter": "python",
   "pygments_lexer": "ipython3",
   "version": "3.9.7"
  }
 },
 "nbformat": 4,
 "nbformat_minor": 5
}
