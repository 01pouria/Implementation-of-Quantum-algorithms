{
  "nbformat": 4,
  "nbformat_minor": 0,
  "metadata": {
    "colab": {
      "provenance": []
    },
    "kernelspec": {
      "name": "python3",
      "display_name": "Python 3"
    },
    "language_info": {
      "name": "python"
    }
  },
  "cells": [
    {
      "cell_type": "code",
      "execution_count": 1,
      "metadata": {
        "colab": {
          "base_uri": "https://localhost:8080/"
        },
        "id": "mMR4kcxfCgQm",
        "outputId": "672c8c9c-820f-4162-963c-44935388a80f"
      },
      "outputs": [
        {
          "output_type": "stream",
          "name": "stdout",
          "text": [
            "Collecting cirq\n",
            "  Downloading cirq-1.4.1-py3-none-any.whl.metadata (7.4 kB)\n",
            "Collecting cirq-aqt==1.4.1 (from cirq)\n",
            "  Downloading cirq_aqt-1.4.1-py3-none-any.whl.metadata (1.6 kB)\n",
            "Collecting cirq-core==1.4.1 (from cirq)\n",
            "  Downloading cirq_core-1.4.1-py3-none-any.whl.metadata (1.8 kB)\n",
            "Collecting cirq-google==1.4.1 (from cirq)\n",
            "  Downloading cirq_google-1.4.1-py3-none-any.whl.metadata (2.0 kB)\n",
            "Collecting cirq-ionq==1.4.1 (from cirq)\n",
            "  Downloading cirq_ionq-1.4.1-py3-none-any.whl.metadata (1.6 kB)\n",
            "Collecting cirq-pasqal==1.4.1 (from cirq)\n",
            "  Downloading cirq_pasqal-1.4.1-py3-none-any.whl.metadata (1.6 kB)\n",
            "Collecting cirq-rigetti==1.4.1 (from cirq)\n",
            "  Downloading cirq_rigetti-1.4.1-py3-none-any.whl.metadata (1.7 kB)\n",
            "Collecting cirq-web==1.4.1 (from cirq)\n",
            "  Downloading cirq_web-1.4.1-py3-none-any.whl.metadata (2.6 kB)\n",
            "Requirement already satisfied: requests~=2.18 in /usr/local/lib/python3.10/dist-packages (from cirq-aqt==1.4.1->cirq) (2.32.3)\n",
            "Requirement already satisfied: attrs>=21.3.0 in /usr/local/lib/python3.10/dist-packages (from cirq-core==1.4.1->cirq) (24.2.0)\n",
            "Collecting duet>=0.2.8 (from cirq-core==1.4.1->cirq)\n",
            "  Downloading duet-0.2.9-py3-none-any.whl.metadata (2.3 kB)\n",
            "Requirement already satisfied: matplotlib~=3.0 in /usr/local/lib/python3.10/dist-packages (from cirq-core==1.4.1->cirq) (3.8.0)\n",
            "Requirement already satisfied: networkx>=2.4 in /usr/local/lib/python3.10/dist-packages (from cirq-core==1.4.1->cirq) (3.4.2)\n",
            "Requirement already satisfied: numpy~=1.22 in /usr/local/lib/python3.10/dist-packages (from cirq-core==1.4.1->cirq) (1.26.4)\n",
            "Requirement already satisfied: pandas in /usr/local/lib/python3.10/dist-packages (from cirq-core==1.4.1->cirq) (2.2.2)\n",
            "Collecting sortedcontainers~=2.0 (from cirq-core==1.4.1->cirq)\n",
            "  Downloading sortedcontainers-2.4.0-py2.py3-none-any.whl.metadata (10 kB)\n",
            "Requirement already satisfied: scipy~=1.0 in /usr/local/lib/python3.10/dist-packages (from cirq-core==1.4.1->cirq) (1.13.1)\n",
            "Requirement already satisfied: sympy in /usr/local/lib/python3.10/dist-packages (from cirq-core==1.4.1->cirq) (1.13.1)\n",
            "Requirement already satisfied: typing-extensions>=4.2 in /usr/local/lib/python3.10/dist-packages (from cirq-core==1.4.1->cirq) (4.12.2)\n",
            "Requirement already satisfied: tqdm in /usr/local/lib/python3.10/dist-packages (from cirq-core==1.4.1->cirq) (4.66.6)\n",
            "Requirement already satisfied: google-api-core>=1.14.0 in /usr/local/lib/python3.10/dist-packages (from google-api-core[grpc]>=1.14.0->cirq-google==1.4.1->cirq) (2.19.2)\n",
            "Requirement already satisfied: proto-plus>=1.20.0 in /usr/local/lib/python3.10/dist-packages (from cirq-google==1.4.1->cirq) (1.25.0)\n",
            "Requirement already satisfied: protobuf<5.0.0,>=3.15.0 in /usr/local/lib/python3.10/dist-packages (from cirq-google==1.4.1->cirq) (3.20.3)\n",
            "Collecting pyquil<5.0.0,>=4.11.0 (from cirq-rigetti==1.4.1->cirq)\n",
            "  Downloading pyquil-4.14.3-py3-none-any.whl.metadata (10 kB)\n",
            "Requirement already satisfied: googleapis-common-protos<2.0.dev0,>=1.56.2 in /usr/local/lib/python3.10/dist-packages (from google-api-core>=1.14.0->google-api-core[grpc]>=1.14.0->cirq-google==1.4.1->cirq) (1.65.0)\n",
            "Requirement already satisfied: google-auth<3.0.dev0,>=2.14.1 in /usr/local/lib/python3.10/dist-packages (from google-api-core>=1.14.0->google-api-core[grpc]>=1.14.0->cirq-google==1.4.1->cirq) (2.27.0)\n",
            "Requirement already satisfied: grpcio<2.0dev,>=1.33.2 in /usr/local/lib/python3.10/dist-packages (from google-api-core[grpc]>=1.14.0->cirq-google==1.4.1->cirq) (1.64.1)\n",
            "Requirement already satisfied: grpcio-status<2.0.dev0,>=1.33.2 in /usr/local/lib/python3.10/dist-packages (from google-api-core[grpc]>=1.14.0->cirq-google==1.4.1->cirq) (1.48.2)\n",
            "Requirement already satisfied: contourpy>=1.0.1 in /usr/local/lib/python3.10/dist-packages (from matplotlib~=3.0->cirq-core==1.4.1->cirq) (1.3.0)\n",
            "Requirement already satisfied: cycler>=0.10 in /usr/local/lib/python3.10/dist-packages (from matplotlib~=3.0->cirq-core==1.4.1->cirq) (0.12.1)\n",
            "Requirement already satisfied: fonttools>=4.22.0 in /usr/local/lib/python3.10/dist-packages (from matplotlib~=3.0->cirq-core==1.4.1->cirq) (4.54.1)\n",
            "Requirement already satisfied: kiwisolver>=1.0.1 in /usr/local/lib/python3.10/dist-packages (from matplotlib~=3.0->cirq-core==1.4.1->cirq) (1.4.7)\n",
            "Requirement already satisfied: packaging>=20.0 in /usr/local/lib/python3.10/dist-packages (from matplotlib~=3.0->cirq-core==1.4.1->cirq) (24.1)\n",
            "Requirement already satisfied: pillow>=6.2.0 in /usr/local/lib/python3.10/dist-packages (from matplotlib~=3.0->cirq-core==1.4.1->cirq) (10.4.0)\n",
            "Requirement already satisfied: pyparsing>=2.3.1 in /usr/local/lib/python3.10/dist-packages (from matplotlib~=3.0->cirq-core==1.4.1->cirq) (3.2.0)\n",
            "Requirement already satisfied: python-dateutil>=2.7 in /usr/local/lib/python3.10/dist-packages (from matplotlib~=3.0->cirq-core==1.4.1->cirq) (2.8.2)\n",
            "Requirement already satisfied: deprecated<2.0.0,>=1.2.14 in /usr/local/lib/python3.10/dist-packages (from pyquil<5.0.0,>=4.11.0->cirq-rigetti==1.4.1->cirq) (1.2.14)\n",
            "Requirement already satisfied: matplotlib-inline<0.2.0,>=0.1.7 in /usr/local/lib/python3.10/dist-packages (from pyquil<5.0.0,>=4.11.0->cirq-rigetti==1.4.1->cirq) (0.1.7)\n",
            "Collecting packaging>=20.0 (from matplotlib~=3.0->cirq-core==1.4.1->cirq)\n",
            "  Downloading packaging-23.2-py3-none-any.whl.metadata (3.2 kB)\n",
            "Collecting qcs-sdk-python>=0.20.1 (from pyquil<5.0.0,>=4.11.0->cirq-rigetti==1.4.1->cirq)\n",
            "  Downloading qcs_sdk_python-0.20.1-cp310-cp310-manylinux_2_28_x86_64.whl.metadata (7.0 kB)\n",
            "Collecting quil>=0.11.2 (from pyquil<5.0.0,>=4.11.0->cirq-rigetti==1.4.1->cirq)\n",
            "  Downloading quil-0.13.1-cp310-cp310-manylinux_2_17_x86_64.manylinux2014_x86_64.whl.metadata (1.8 kB)\n",
            "Collecting rpcq<4.0.0,>=3.11.0 (from pyquil<5.0.0,>=4.11.0->cirq-rigetti==1.4.1->cirq)\n",
            "  Downloading rpcq-3.11.0.tar.gz (45 kB)\n",
            "\u001b[2K     \u001b[90m━━━━━━━━━━━━━━━━━━━━━━━━━━━━━━━━━━━━━━━━\u001b[0m \u001b[32m45.6/45.6 kB\u001b[0m \u001b[31m1.6 MB/s\u001b[0m eta \u001b[36m0:00:00\u001b[0m\n",
            "\u001b[?25h  Preparing metadata (setup.py) ... \u001b[?25l\u001b[?25hdone\n",
            "Collecting types-deprecated<2.0.0.0,>=1.2.9.3 (from pyquil<5.0.0,>=4.11.0->cirq-rigetti==1.4.1->cirq)\n",
            "  Downloading types_Deprecated-1.2.9.20240311-py3-none-any.whl.metadata (1.6 kB)\n",
            "Requirement already satisfied: charset-normalizer<4,>=2 in /usr/local/lib/python3.10/dist-packages (from requests~=2.18->cirq-aqt==1.4.1->cirq) (3.4.0)\n",
            "Requirement already satisfied: idna<4,>=2.5 in /usr/local/lib/python3.10/dist-packages (from requests~=2.18->cirq-aqt==1.4.1->cirq) (3.10)\n",
            "Requirement already satisfied: urllib3<3,>=1.21.1 in /usr/local/lib/python3.10/dist-packages (from requests~=2.18->cirq-aqt==1.4.1->cirq) (2.2.3)\n",
            "Requirement already satisfied: certifi>=2017.4.17 in /usr/local/lib/python3.10/dist-packages (from requests~=2.18->cirq-aqt==1.4.1->cirq) (2024.8.30)\n",
            "Requirement already satisfied: pytz>=2020.1 in /usr/local/lib/python3.10/dist-packages (from pandas->cirq-core==1.4.1->cirq) (2024.2)\n",
            "Requirement already satisfied: tzdata>=2022.7 in /usr/local/lib/python3.10/dist-packages (from pandas->cirq-core==1.4.1->cirq) (2024.2)\n",
            "Requirement already satisfied: mpmath<1.4,>=1.1.0 in /usr/local/lib/python3.10/dist-packages (from sympy->cirq-core==1.4.1->cirq) (1.3.0)\n",
            "Requirement already satisfied: wrapt<2,>=1.10 in /usr/local/lib/python3.10/dist-packages (from deprecated<2.0.0,>=1.2.14->pyquil<5.0.0,>=4.11.0->cirq-rigetti==1.4.1->cirq) (1.16.0)\n",
            "Requirement already satisfied: cachetools<6.0,>=2.0.0 in /usr/local/lib/python3.10/dist-packages (from google-auth<3.0.dev0,>=2.14.1->google-api-core>=1.14.0->google-api-core[grpc]>=1.14.0->cirq-google==1.4.1->cirq) (5.5.0)\n",
            "Requirement already satisfied: pyasn1-modules>=0.2.1 in /usr/local/lib/python3.10/dist-packages (from google-auth<3.0.dev0,>=2.14.1->google-api-core>=1.14.0->google-api-core[grpc]>=1.14.0->cirq-google==1.4.1->cirq) (0.4.1)\n",
            "Requirement already satisfied: rsa<5,>=3.1.4 in /usr/local/lib/python3.10/dist-packages (from google-auth<3.0.dev0,>=2.14.1->google-api-core>=1.14.0->google-api-core[grpc]>=1.14.0->cirq-google==1.4.1->cirq) (4.9)\n",
            "Requirement already satisfied: traitlets in /usr/local/lib/python3.10/dist-packages (from matplotlib-inline<0.2.0,>=0.1.7->pyquil<5.0.0,>=4.11.0->cirq-rigetti==1.4.1->cirq) (5.7.1)\n",
            "Requirement already satisfied: six>=1.5 in /usr/local/lib/python3.10/dist-packages (from python-dateutil>=2.7->matplotlib~=3.0->cirq-core==1.4.1->cirq) (1.16.0)\n",
            "Collecting qcs-api-client-common>=0.10.0 (from qcs-sdk-python>=0.20.1->pyquil<5.0.0,>=4.11.0->cirq-rigetti==1.4.1->cirq)\n",
            "  Downloading qcs_api_client_common-0.10.0-cp310-cp310-manylinux_2_28_x86_64.whl.metadata (2.5 kB)\n",
            "Requirement already satisfied: msgpack<2.0,>=0.6 in /usr/local/lib/python3.10/dist-packages (from rpcq<4.0.0,>=3.11.0->pyquil<5.0.0,>=4.11.0->cirq-rigetti==1.4.1->cirq) (1.1.0)\n",
            "Collecting python-rapidjson (from rpcq<4.0.0,>=3.11.0->pyquil<5.0.0,>=4.11.0->cirq-rigetti==1.4.1->cirq)\n",
            "  Downloading python_rapidjson-1.20-cp310-cp310-manylinux_2_17_x86_64.manylinux2014_x86_64.whl.metadata (22 kB)\n",
            "Requirement already satisfied: pyzmq>=17 in /usr/local/lib/python3.10/dist-packages (from rpcq<4.0.0,>=3.11.0->pyquil<5.0.0,>=4.11.0->cirq-rigetti==1.4.1->cirq) (24.0.1)\n",
            "Collecting ruamel.yaml (from rpcq<4.0.0,>=3.11.0->pyquil<5.0.0,>=4.11.0->cirq-rigetti==1.4.1->cirq)\n",
            "  Downloading ruamel.yaml-0.18.6-py3-none-any.whl.metadata (23 kB)\n",
            "Requirement already satisfied: pyasn1<0.7.0,>=0.4.6 in /usr/local/lib/python3.10/dist-packages (from pyasn1-modules>=0.2.1->google-auth<3.0.dev0,>=2.14.1->google-api-core>=1.14.0->google-api-core[grpc]>=1.14.0->cirq-google==1.4.1->cirq) (0.6.1)\n",
            "Collecting grpc-interceptor>=0.15.0 (from qcs-api-client-common>=0.10.0->qcs-sdk-python>=0.20.1->pyquil<5.0.0,>=4.11.0->cirq-rigetti==1.4.1->cirq)\n",
            "  Downloading grpc_interceptor-0.15.4-py3-none-any.whl.metadata (8.4 kB)\n",
            "Requirement already satisfied: httpx>=0.27.0 in /usr/local/lib/python3.10/dist-packages (from qcs-api-client-common>=0.10.0->qcs-sdk-python>=0.20.1->pyquil<5.0.0,>=4.11.0->cirq-rigetti==1.4.1->cirq) (0.27.2)\n",
            "Collecting ruamel.yaml.clib>=0.2.7 (from ruamel.yaml->rpcq<4.0.0,>=3.11.0->pyquil<5.0.0,>=4.11.0->cirq-rigetti==1.4.1->cirq)\n",
            "  Downloading ruamel.yaml.clib-0.2.12-cp310-cp310-manylinux_2_17_x86_64.manylinux2014_x86_64.whl.metadata (2.7 kB)\n",
            "Requirement already satisfied: anyio in /usr/local/lib/python3.10/dist-packages (from httpx>=0.27.0->qcs-api-client-common>=0.10.0->qcs-sdk-python>=0.20.1->pyquil<5.0.0,>=4.11.0->cirq-rigetti==1.4.1->cirq) (3.7.1)\n",
            "Requirement already satisfied: httpcore==1.* in /usr/local/lib/python3.10/dist-packages (from httpx>=0.27.0->qcs-api-client-common>=0.10.0->qcs-sdk-python>=0.20.1->pyquil<5.0.0,>=4.11.0->cirq-rigetti==1.4.1->cirq) (1.0.6)\n",
            "Requirement already satisfied: sniffio in /usr/local/lib/python3.10/dist-packages (from httpx>=0.27.0->qcs-api-client-common>=0.10.0->qcs-sdk-python>=0.20.1->pyquil<5.0.0,>=4.11.0->cirq-rigetti==1.4.1->cirq) (1.3.1)\n",
            "Requirement already satisfied: h11<0.15,>=0.13 in /usr/local/lib/python3.10/dist-packages (from httpcore==1.*->httpx>=0.27.0->qcs-api-client-common>=0.10.0->qcs-sdk-python>=0.20.1->pyquil<5.0.0,>=4.11.0->cirq-rigetti==1.4.1->cirq) (0.14.0)\n",
            "Requirement already satisfied: exceptiongroup in /usr/local/lib/python3.10/dist-packages (from anyio->httpx>=0.27.0->qcs-api-client-common>=0.10.0->qcs-sdk-python>=0.20.1->pyquil<5.0.0,>=4.11.0->cirq-rigetti==1.4.1->cirq) (1.2.2)\n",
            "Downloading cirq-1.4.1-py3-none-any.whl (8.0 kB)\n",
            "Downloading cirq_aqt-1.4.1-py3-none-any.whl (30 kB)\n",
            "Downloading cirq_core-1.4.1-py3-none-any.whl (1.9 MB)\n",
            "\u001b[2K   \u001b[90m━━━━━━━━━━━━━━━━━━━━━━━━━━━━━━━━━━━━━━━━\u001b[0m \u001b[32m1.9/1.9 MB\u001b[0m \u001b[31m24.2 MB/s\u001b[0m eta \u001b[36m0:00:00\u001b[0m\n",
            "\u001b[?25hDownloading cirq_google-1.4.1-py3-none-any.whl (532 kB)\n",
            "\u001b[2K   \u001b[90m━━━━━━━━━━━━━━━━━━━━━━━━━━━━━━━━━━━━━━━━\u001b[0m \u001b[32m532.7/532.7 kB\u001b[0m \u001b[31m25.0 MB/s\u001b[0m eta \u001b[36m0:00:00\u001b[0m\n",
            "\u001b[?25hDownloading cirq_ionq-1.4.1-py3-none-any.whl (60 kB)\n",
            "\u001b[2K   \u001b[90m━━━━━━━━━━━━━━━━━━━━━━━━━━━━━━━━━━━━━━━━\u001b[0m \u001b[32m60.5/60.5 kB\u001b[0m \u001b[31m3.1 MB/s\u001b[0m eta \u001b[36m0:00:00\u001b[0m\n",
            "\u001b[?25hDownloading cirq_pasqal-1.4.1-py3-none-any.whl (31 kB)\n",
            "Downloading cirq_rigetti-1.4.1-py3-none-any.whl (69 kB)\n",
            "\u001b[2K   \u001b[90m━━━━━━━━━━━━━━━━━━━━━━━━━━━━━━━━━━━━━━━━\u001b[0m \u001b[32m69.3/69.3 kB\u001b[0m \u001b[31m3.6 MB/s\u001b[0m eta \u001b[36m0:00:00\u001b[0m\n",
            "\u001b[?25hDownloading cirq_web-1.4.1-py3-none-any.whl (596 kB)\n",
            "\u001b[2K   \u001b[90m━━━━━━━━━━━━━━━━━━━━━━━━━━━━━━━━━━━━━━━━\u001b[0m \u001b[32m596.5/596.5 kB\u001b[0m \u001b[31m29.5 MB/s\u001b[0m eta \u001b[36m0:00:00\u001b[0m\n",
            "\u001b[?25hDownloading duet-0.2.9-py3-none-any.whl (29 kB)\n",
            "Downloading pyquil-4.14.3-py3-none-any.whl (202 kB)\n",
            "\u001b[2K   \u001b[90m━━━━━━━━━━━━━━━━━━━━━━━━━━━━━━━━━━━━━━━━\u001b[0m \u001b[32m202.8/202.8 kB\u001b[0m \u001b[31m11.8 MB/s\u001b[0m eta \u001b[36m0:00:00\u001b[0m\n",
            "\u001b[?25hDownloading sortedcontainers-2.4.0-py2.py3-none-any.whl (29 kB)\n",
            "Downloading packaging-23.2-py3-none-any.whl (53 kB)\n",
            "\u001b[2K   \u001b[90m━━━━━━━━━━━━━━━━━━━━━━━━━━━━━━━━━━━━━━━━\u001b[0m \u001b[32m53.0/53.0 kB\u001b[0m \u001b[31m2.0 MB/s\u001b[0m eta \u001b[36m0:00:00\u001b[0m\n",
            "\u001b[?25hDownloading qcs_sdk_python-0.20.1-cp310-cp310-manylinux_2_28_x86_64.whl (7.0 MB)\n",
            "\u001b[2K   \u001b[90m━━━━━━━━━━━━━━━━━━━━━━━━━━━━━━━━━━━━━━━━\u001b[0m \u001b[32m7.0/7.0 MB\u001b[0m \u001b[31m55.7 MB/s\u001b[0m eta \u001b[36m0:00:00\u001b[0m\n",
            "\u001b[?25hDownloading quil-0.13.1-cp310-cp310-manylinux_2_17_x86_64.manylinux2014_x86_64.whl (2.1 MB)\n",
            "\u001b[2K   \u001b[90m━━━━━━━━━━━━━━━━━━━━━━━━━━━━━━━━━━━━━━━━\u001b[0m \u001b[32m2.1/2.1 MB\u001b[0m \u001b[31m62.3 MB/s\u001b[0m eta \u001b[36m0:00:00\u001b[0m\n",
            "\u001b[?25hDownloading types_Deprecated-1.2.9.20240311-py3-none-any.whl (3.5 kB)\n",
            "Downloading qcs_api_client_common-0.10.0-cp310-cp310-manylinux_2_28_x86_64.whl (2.9 MB)\n",
            "\u001b[2K   \u001b[90m━━━━━━━━━━━━━━━━━━━━━━━━━━━━━━━━━━━━━━━━\u001b[0m \u001b[32m2.9/2.9 MB\u001b[0m \u001b[31m52.0 MB/s\u001b[0m eta \u001b[36m0:00:00\u001b[0m\n",
            "\u001b[?25hDownloading python_rapidjson-1.20-cp310-cp310-manylinux_2_17_x86_64.manylinux2014_x86_64.whl (1.7 MB)\n",
            "\u001b[2K   \u001b[90m━━━━━━━━━━━━━━━━━━━━━━━━━━━━━━━━━━━━━━━━\u001b[0m \u001b[32m1.7/1.7 MB\u001b[0m \u001b[31m46.2 MB/s\u001b[0m eta \u001b[36m0:00:00\u001b[0m\n",
            "\u001b[?25hDownloading ruamel.yaml-0.18.6-py3-none-any.whl (117 kB)\n",
            "\u001b[2K   \u001b[90m━━━━━━━━━━━━━━━━━━━━━━━━━━━━━━━━━━━━━━━━\u001b[0m \u001b[32m117.8/117.8 kB\u001b[0m \u001b[31m6.8 MB/s\u001b[0m eta \u001b[36m0:00:00\u001b[0m\n",
            "\u001b[?25hDownloading grpc_interceptor-0.15.4-py3-none-any.whl (20 kB)\n",
            "Downloading ruamel.yaml.clib-0.2.12-cp310-cp310-manylinux_2_17_x86_64.manylinux2014_x86_64.whl (722 kB)\n",
            "\u001b[2K   \u001b[90m━━━━━━━━━━━━━━━━━━━━━━━━━━━━━━━━━━━━━━━━\u001b[0m \u001b[32m722.2/722.2 kB\u001b[0m \u001b[31m34.6 MB/s\u001b[0m eta \u001b[36m0:00:00\u001b[0m\n",
            "\u001b[?25hBuilding wheels for collected packages: rpcq\n",
            "  Building wheel for rpcq (setup.py) ... \u001b[?25l\u001b[?25hdone\n",
            "  Created wheel for rpcq: filename=rpcq-3.11.0-py3-none-any.whl size=45967 sha256=5c4aa24583bd797386c7a24f2e72fc8f0841007bac5c5453c289e7d297500ee2\n",
            "  Stored in directory: /root/.cache/pip/wheels/91/97/0a/b384d94155345284ec00712ab814cbfb5bc2b631080b4fa4c3\n",
            "Successfully built rpcq\n",
            "Installing collected packages: sortedcontainers, types-deprecated, ruamel.yaml.clib, quil, python-rapidjson, packaging, grpc-interceptor, duet, ruamel.yaml, rpcq, qcs-api-client-common, cirq-core, qcs-sdk-python, cirq-web, cirq-pasqal, cirq-ionq, cirq-aqt, pyquil, cirq-google, cirq-rigetti, cirq\n",
            "  Attempting uninstall: packaging\n",
            "    Found existing installation: packaging 24.1\n",
            "    Uninstalling packaging-24.1:\n",
            "      Successfully uninstalled packaging-24.1\n",
            "Successfully installed cirq-1.4.1 cirq-aqt-1.4.1 cirq-core-1.4.1 cirq-google-1.4.1 cirq-ionq-1.4.1 cirq-pasqal-1.4.1 cirq-rigetti-1.4.1 cirq-web-1.4.1 duet-0.2.9 grpc-interceptor-0.15.4 packaging-23.2 pyquil-4.14.3 python-rapidjson-1.20 qcs-api-client-common-0.10.0 qcs-sdk-python-0.20.1 quil-0.13.1 rpcq-3.11.0 ruamel.yaml-0.18.6 ruamel.yaml.clib-0.2.12 sortedcontainers-2.4.0 types-deprecated-1.2.9.20240311\n"
          ]
        }
      ],
      "source": [
        "pip install cirq"
      ]
    },
    {
      "cell_type": "code",
      "source": [
        "import cirq\n",
        "import numpy as np\n",
        "\n",
        "# Ax = b\n",
        "A = np.array([[1,0],[0,1]])\n",
        "b = np.array([1,0])\n",
        "\n",
        "# Create qubits\n",
        "qubits = [cirq.NamedQubit(f'q{i}') for i in range(3)]\n",
        "\n",
        "# Define the circuit\n",
        "circuit = cirq.Circuit()\n",
        "\n",
        "# Apply Hadamard gates to create superposition between qubits\n",
        "circuit.append(cirq.H.on_each(qubits))\n",
        "\n",
        "# Difine oracle for A\n",
        "def oracle(matrix):\n",
        "  return cirq.MatrixGate(matrix)\n",
        "\n",
        "#apply the oracles as conntrolled opr\n",
        "circuit.append(cirq.ControlledGate(oracle(A)).on(qubits[0],qubits[1]))\n",
        "\n",
        "#apply controlled rotations based on b\n",
        "theta =np.arccos(b[0]/np.linalg.norm(b))\n",
        "circuit.append(cirq.ry(2*theta).controlled().on(qubits[0], qubits[2]))\n",
        "\n",
        "circuit.append(cirq.measure(*qubits,key=\"QLR-Results\"))\n",
        "sim = cirq.Simulator()\n",
        "r = sim.run(circuit, repetitions=10**3)\n",
        "print(circuit)\n",
        "print(r.histogram(key=\"QLR-Results\"))"
      ],
      "metadata": {
        "colab": {
          "base_uri": "https://localhost:8080/"
        },
        "id": "upbA4PZJDbas",
        "outputId": "b12a78da-fb69-4826-e5b6-f31666387618"
      },
      "execution_count": 29,
      "outputs": [
        {
          "output_type": "stream",
          "name": "stdout",
          "text": [
            "q0: ───H───@───────@───────M('QLR-Results')───\n",
            "           │       │       │\n",
            "           ┌   ┐   │       │\n",
            "q1: ───H───│1 0│───┼───────M──────────────────\n",
            "           │0 1│   │       │\n",
            "           └   ┘   │       │\n",
            "                   │       │\n",
            "q2: ───H───────────Ry(0)───M──────────────────\n",
            "Counter({7: 143, 4: 142, 2: 131, 5: 129, 3: 118, 6: 118, 1: 114, 0: 105})\n"
          ]
        }
      ]
    },
    {
      "cell_type": "code",
      "source": [
        "import matplotlib.pyplot as plt\n",
        "x = r.histogram(key=\"QLR-Results\").keys()\n",
        "y = r.histogram(key=\"QLR-Results\").values()\n",
        "plt.bar(x,y)"
      ],
      "metadata": {
        "colab": {
          "base_uri": "https://localhost:8080/",
          "height": 447
        },
        "id": "szrbSwSTIvYB",
        "outputId": "e25d1019-e2e0-4c07-f573-a289e3bdfdf6"
      },
      "execution_count": 27,
      "outputs": [
        {
          "output_type": "execute_result",
          "data": {
            "text/plain": [
              "<BarContainer object of 8 artists>"
            ]
          },
          "metadata": {},
          "execution_count": 27
        },
        {
          "output_type": "display_data",
          "data": {
            "text/plain": [
              "<Figure size 640x480 with 1 Axes>"
            ],
            "image/png": "[encoded data removed]"
          },
          "metadata": {}
        }
      ]
    }
  ]
}