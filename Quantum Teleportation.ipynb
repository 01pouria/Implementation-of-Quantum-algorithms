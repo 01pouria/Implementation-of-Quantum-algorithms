{
 "cells": [
  {
   "cell_type": "code",
   "execution_count": 19,
   "id": "034a5064",
   "metadata": {},
   "outputs": [
    {
     "name": "stdout",
     "output_type": "stream",
     "text": [
      "Bell Circuit\n",
      "0: ───H───@───M('Pouriya Measurement')───\n",
      "          │   │\n",
      "1: ───────X───M──────────────────────────\n",
      "Counter({3: 51, 0: 49})\n"
     ]
    }
   ],
   "source": [
    "# Bell State\n",
    "import cirq \n",
    "\n",
    "q0,q1 = cirq.LineQubit.range(2)\n",
    "c = cirq.Circuit(cirq.H(q0),cirq.CNOT(q0,q1),cirq.measure(*[q0,q1],key='Pouriya Measurement'))\n",
    "print('Bell Circuit')\n",
    "print(c)\n",
    "s = cirq.Simulator()\n",
    "r = s.run(c,repetitions=100)\n",
    "print(r.histogram(key='Pouriya Measurement'))"
   ]
  },
  {
   "cell_type": "code",
   "execution_count": 89,
   "id": "46211e11",
   "metadata": {},
   "outputs": [
    {
     "name": "stdout",
     "output_type": "stream",
     "text": [
      "alice bloch sphare qubit is : 0.3053 -0.9462 0.1075\n",
      "\n",
      "Teleportation Circuit\n",
      "0: ───X^0.395───Y^0.392───@───H───M───────@───\n",
      "                          │       │       │\n",
      "1: ───H─────────@─────────X───────M───@───┼───\n",
      "                │                     │   │\n",
      "2: ─────────────X─────────────────────X───@───\n",
      "bob bloch sphare qubit is : 0.3053 -0.9462 0.1075\n"
     ]
    }
   ],
   "source": [
    "# Quantum Teleportation\n",
    "import cirq\n",
    "import random as rn\n",
    "\n",
    "def teleportationCircuit(x,y):\n",
    "    c = cirq.Circuit()\n",
    "    msg,alice,bob=cirq.LineQubit.range(3)\n",
    "    \n",
    "    #msg = cirq.NamedQubit('Message')\n",
    "    #alice = cirq.NamedQubit('Alice')\n",
    "    #bob = cirq.NamedQubit('Bob')\n",
    "    \n",
    "    # creates bell state between alice and bob\n",
    "    c.append([cirq.H(alice),cirq.CNOT(alice,bob)])\n",
    "    # creates a random state for msg\n",
    "    c.append([cirq.X(msg)**x,cirq.Y(msg)**y])\n",
    "    \n",
    "    # bell mesurement of msg, alice entangled qubit\n",
    "    c.append([cirq.CNOT(msg, alice),cirq.H(msg)])\n",
    "    c.append(cirq.measure(msg,alice))\n",
    "    # orginal quantum message\n",
    "    c.append([cirq.CNOT(alice,bob), cirq.CZ(msg,bob)])\n",
    "    \n",
    "    return msg,c\n",
    "\n",
    "x,y = rn.random(),rn.random()\n",
    "msg,c = teleportationCircuit(x,y)\n",
    "s = cirq.Simulator()\n",
    "\n",
    "#Quantum message\n",
    "quantum_message =s.simulate(cirq.Circuit([cirq.X(msg)**x, cirq.Y(msg)**y])) \n",
    "\n",
    "#alice bloch sphare qubit\n",
    "ax,ay,az = cirq.bloch_vector_from_state_vector(quantum_message.final_state_vector, 0)\n",
    "\n",
    "print('alice bloch sphare qubit is :',round(ax,4),round(ay,4),round(az,4))\n",
    "print()\n",
    "print('Teleportation Circuit')\n",
    "print(c)\n",
    "\n",
    "# final state simulation\n",
    "r = s.simulate(c)\n",
    "\n",
    "bx,by,bz = cirq.bloch_vector_from_state_vector(r.final_state_vector,2)\n",
    "print('bob bloch sphare qubit is :',round(bx,4),round(by,4),round(bz,4))"
   ]
  }
 ],
 "metadata": {
  "kernelspec": {
   "display_name": "Python 3 (ipykernel)",
   "language": "python",
   "name": "python3"
  },
  "language_info": {
   "codemirror_mode": {
    "name": "ipython",
    "version": 3
   },
   "file_extension": ".py",
   "mimetype": "text/x-python",
   "name": "python",
   "nbconvert_exporter": "python",
   "pygments_lexer": "ipython3",
   "version": "3.9.7"
  }
 },
 "nbformat": 4,
 "nbformat_minor": 5
}
