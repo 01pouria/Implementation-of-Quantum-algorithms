{
 "cells": [
  {
   "cell_type": "code",
   "execution_count": 96,
   "id": "1190b4b2",
   "metadata": {},
   "outputs": [
    {
     "name": "stdout",
     "output_type": "stream",
     "text": [
      "Requirement already satisfied: cirq in c:\\users\\pourya\\anaconda3\\lib\\site-packages (1.3.0)\n",
      "Requirement already satisfied: cirq-web==1.3.0 in c:\\users\\pourya\\anaconda3\\lib\\site-packages (from cirq) (1.3.0)\n",
      "Requirement already satisfied: cirq-core==1.3.0 in c:\\users\\pourya\\anaconda3\\lib\\site-packages (from cirq) (1.3.0)\n",
      "Requirement already satisfied: cirq-rigetti==1.3.0 in c:\\users\\pourya\\anaconda3\\lib\\site-packages (from cirq) (1.3.0)\n",
      "Requirement already satisfied: cirq-ionq==1.3.0 in c:\\users\\pourya\\anaconda3\\lib\\site-packages (from cirq) (1.3.0)\n",
      "Requirement already satisfied: cirq-aqt==1.3.0 in c:\\users\\pourya\\anaconda3\\lib\\site-packages (from cirq) (1.3.0)\n",
      "Requirement already satisfied: cirq-pasqal==1.3.0 in c:\\users\\pourya\\anaconda3\\lib\\site-packages (from cirq) (1.3.0)\n",
      "Requirement already satisfied: cirq-ft==1.3.0 in c:\\users\\pourya\\anaconda3\\lib\\site-packages (from cirq) (1.3.0)\n",
      "Requirement already satisfied: cirq-google==1.3.0 in c:\\users\\pourya\\anaconda3\\lib\\site-packages (from cirq) (1.3.0)\n",
      "Requirement already satisfied: requests~=2.18 in c:\\users\\pourya\\anaconda3\\lib\\site-packages (from cirq-aqt==1.3.0->cirq) (2.31.0)\n",
      "Requirement already satisfied: networkx>=2.4 in c:\\users\\pourya\\anaconda3\\lib\\site-packages (from cirq-core==1.3.0->cirq) (2.6.3)\n",
      "Requirement already satisfied: scipy in c:\\users\\pourya\\anaconda3\\lib\\site-packages (from cirq-core==1.3.0->cirq) (1.13.1)\n",
      "Requirement already satisfied: sortedcontainers~=2.0 in c:\\users\\pourya\\anaconda3\\lib\\site-packages (from cirq-core==1.3.0->cirq) (2.4.0)\n",
      "Requirement already satisfied: pandas in c:\\users\\pourya\\anaconda3\\lib\\site-packages (from cirq-core==1.3.0->cirq) (1.3.4)\n",
      "Requirement already satisfied: typing-extensions>=4.2 in c:\\users\\pourya\\anaconda3\\lib\\site-packages (from cirq-core==1.3.0->cirq) (4.12.2)\n",
      "Requirement already satisfied: tqdm in c:\\users\\pourya\\anaconda3\\lib\\site-packages (from cirq-core==1.3.0->cirq) (4.62.3)\n",
      "Requirement already satisfied: numpy~=1.16 in c:\\users\\pourya\\anaconda3\\lib\\site-packages (from cirq-core==1.3.0->cirq) (1.26.4)\n",
      "Requirement already satisfied: matplotlib~=3.0 in c:\\users\\pourya\\anaconda3\\lib\\site-packages (from cirq-core==1.3.0->cirq) (3.4.3)\n",
      "Requirement already satisfied: sympy in c:\\users\\pourya\\anaconda3\\lib\\site-packages (from cirq-core==1.3.0->cirq) (1.9)\n",
      "Requirement already satisfied: duet~=0.2.8 in c:\\users\\pourya\\anaconda3\\lib\\site-packages (from cirq-core==1.3.0->cirq) (0.2.9)\n",
      "Requirement already satisfied: cachetools>=5.3 in c:\\users\\pourya\\anaconda3\\lib\\site-packages (from cirq-ft==1.3.0->cirq) (5.4.0)\n",
      "Requirement already satisfied: ipywidgets in c:\\users\\pourya\\anaconda3\\lib\\site-packages (from cirq-ft==1.3.0->cirq) (7.6.5)\n",
      "Requirement already satisfied: attrs in c:\\users\\pourya\\anaconda3\\lib\\site-packages (from cirq-ft==1.3.0->cirq) (21.4.0)\n",
      "Requirement already satisfied: nbformat in c:\\users\\pourya\\anaconda3\\lib\\site-packages (from cirq-ft==1.3.0->cirq) (5.1.3)\n",
      "Requirement already satisfied: nbconvert in c:\\users\\pourya\\anaconda3\\lib\\site-packages (from cirq-ft==1.3.0->cirq) (6.1.0)\n",
      "Requirement already satisfied: proto-plus>=1.20.0 in c:\\users\\pourya\\anaconda3\\lib\\site-packages (from cirq-google==1.3.0->cirq) (1.24.0)\n",
      "Requirement already satisfied: google-api-core[grpc]>=1.14.0 in c:\\users\\pourya\\anaconda3\\lib\\site-packages (from cirq-google==1.3.0->cirq) (2.19.1)\n",
      "Requirement already satisfied: protobuf>=3.15.0 in c:\\users\\pourya\\anaconda3\\lib\\site-packages (from cirq-google==1.3.0->cirq) (5.27.2)\n",
      "Requirement already satisfied: pyquil<4.0.0,>=3.2.0 in c:\\users\\pourya\\anaconda3\\lib\\site-packages (from cirq-rigetti==1.3.0->cirq) (3.5.4)\n",
      "Requirement already satisfied: googleapis-common-protos<2.0.dev0,>=1.56.2 in c:\\users\\pourya\\anaconda3\\lib\\site-packages (from google-api-core[grpc]>=1.14.0->cirq-google==1.3.0->cirq) (1.63.2)\n",
      "Requirement already satisfied: google-auth<3.0.dev0,>=2.14.1 in c:\\users\\pourya\\anaconda3\\lib\\site-packages (from google-api-core[grpc]>=1.14.0->cirq-google==1.3.0->cirq) (2.32.0)\n",
      "Requirement already satisfied: grpcio-status<2.0.dev0,>=1.33.2 in c:\\users\\pourya\\anaconda3\\lib\\site-packages (from google-api-core[grpc]>=1.14.0->cirq-google==1.3.0->cirq) (1.65.1)\n",
      "Requirement already satisfied: grpcio<2.0dev,>=1.33.2 in c:\\users\\pourya\\anaconda3\\lib\\site-packages (from google-api-core[grpc]>=1.14.0->cirq-google==1.3.0->cirq) (1.65.1)\n",
      "Requirement already satisfied: rsa<5,>=3.1.4 in c:\\users\\pourya\\anaconda3\\lib\\site-packages (from google-auth<3.0.dev0,>=2.14.1->google-api-core[grpc]>=1.14.0->cirq-google==1.3.0->cirq) (4.9)\n",
      "Requirement already satisfied: pyasn1-modules>=0.2.1 in c:\\users\\pourya\\anaconda3\\lib\\site-packages (from google-auth<3.0.dev0,>=2.14.1->google-api-core[grpc]>=1.14.0->cirq-google==1.3.0->cirq) (0.4.0)\n",
      "Requirement already satisfied: pyparsing>=2.2.1 in c:\\users\\pourya\\anaconda3\\lib\\site-packages (from matplotlib~=3.0->cirq-core==1.3.0->cirq) (3.0.4)\n",
      "Requirement already satisfied: python-dateutil>=2.7 in c:\\users\\pourya\\anaconda3\\lib\\site-packages (from matplotlib~=3.0->cirq-core==1.3.0->cirq) (2.8.2)\n",
      "Requirement already satisfied: cycler>=0.10 in c:\\users\\pourya\\anaconda3\\lib\\site-packages (from matplotlib~=3.0->cirq-core==1.3.0->cirq) (0.10.0)\n",
      "Requirement already satisfied: kiwisolver>=1.0.1 in c:\\users\\pourya\\anaconda3\\lib\\site-packages (from matplotlib~=3.0->cirq-core==1.3.0->cirq) (1.3.1)\n",
      "Requirement already satisfied: pillow>=6.2.0 in c:\\users\\pourya\\anaconda3\\lib\\site-packages (from matplotlib~=3.0->cirq-core==1.3.0->cirq) (8.4.0)\n",
      "Requirement already satisfied: six in c:\\users\\pourya\\anaconda3\\lib\\site-packages (from cycler>=0.10->matplotlib~=3.0->cirq-core==1.3.0->cirq) (1.16.0)\n",
      "Requirement already satisfied: pyasn1<0.7.0,>=0.4.6 in c:\\users\\pourya\\anaconda3\\lib\\site-packages (from pyasn1-modules>=0.2.1->google-auth<3.0.dev0,>=2.14.1->google-api-core[grpc]>=1.14.0->cirq-google==1.3.0->cirq) (0.6.0)\n",
      "Requirement already satisfied: types-python-dateutil<3.0.0,>=2.8.19 in c:\\users\\pourya\\anaconda3\\lib\\site-packages (from pyquil<4.0.0,>=3.2.0->cirq-rigetti==1.3.0->cirq) (2.9.0.20240316)\n",
      "Requirement already satisfied: qcs-api-client<0.22.0,>=0.21.0 in c:\\users\\pourya\\anaconda3\\lib\\site-packages (from pyquil<4.0.0,>=3.2.0->cirq-rigetti==1.3.0->cirq) (0.21.6)\n",
      "Requirement already satisfied: tenacity<9.0.0,>=8.2.2 in c:\\users\\pourya\\anaconda3\\lib\\site-packages (from pyquil<4.0.0,>=3.2.0->cirq-rigetti==1.3.0->cirq) (8.5.0)\n",
      "Requirement already satisfied: lark<0.12.0,>=0.11.1 in c:\\users\\pourya\\anaconda3\\lib\\site-packages (from pyquil<4.0.0,>=3.2.0->cirq-rigetti==1.3.0->cirq) (0.11.3)\n",
      "Requirement already satisfied: types-retry<0.10.0,>=0.9.9 in c:\\users\\pourya\\anaconda3\\lib\\site-packages (from pyquil<4.0.0,>=3.2.0->cirq-rigetti==1.3.0->cirq) (0.9.9.4)\n",
      "Requirement already satisfied: rpcq<4.0.0,>=3.10.0 in c:\\users\\pourya\\anaconda3\\lib\\site-packages (from pyquil<4.0.0,>=3.2.0->cirq-rigetti==1.3.0->cirq) (3.11.0)\n",
      "Requirement already satisfied: deprecated<2.0.0,>=1.2.13 in c:\\users\\pourya\\anaconda3\\lib\\site-packages (from pyquil<4.0.0,>=3.2.0->cirq-rigetti==1.3.0->cirq) (1.2.14)\n",
      "Requirement already satisfied: types-deprecated<2.0.0.0,>=1.2.9.2 in c:\\users\\pourya\\anaconda3\\lib\\site-packages (from pyquil<4.0.0,>=3.2.0->cirq-rigetti==1.3.0->cirq) (1.2.9.20240311)\n",
      "Requirement already satisfied: wrapt<2,>=1.10 in c:\\users\\pourya\\anaconda3\\lib\\site-packages (from deprecated<2.0.0,>=1.2.13->pyquil<4.0.0,>=3.2.0->cirq-rigetti==1.3.0->cirq) (1.12.1)\n",
      "Requirement already satisfied: PyJWT<3.0.0,>=2.4.0 in c:\\users\\pourya\\anaconda3\\lib\\site-packages (from qcs-api-client<0.22.0,>=0.21.0->pyquil<4.0.0,>=3.2.0->cirq-rigetti==1.3.0->cirq) (2.8.0)\n",
      "Requirement already satisfied: httpx<0.24.0,>=0.23.0 in c:\\users\\pourya\\anaconda3\\lib\\site-packages (from qcs-api-client<0.22.0,>=0.21.0->pyquil<4.0.0,>=3.2.0->cirq-rigetti==1.3.0->cirq) (0.23.3)\n",
      "Requirement already satisfied: toml<0.11.0,>=0.10.2 in c:\\users\\pourya\\anaconda3\\lib\\site-packages (from qcs-api-client<0.22.0,>=0.21.0->pyquil<4.0.0,>=3.2.0->cirq-rigetti==1.3.0->cirq) (0.10.2)\n",
      "Requirement already satisfied: pydantic<2.0.0,>=1.7.2 in c:\\users\\pourya\\anaconda3\\lib\\site-packages (from qcs-api-client<0.22.0,>=0.21.0->pyquil<4.0.0,>=3.2.0->cirq-rigetti==1.3.0->cirq) (1.10.17)\n",
      "Requirement already satisfied: retrying<2.0.0,>=1.3.3 in c:\\users\\pourya\\anaconda3\\lib\\site-packages (from qcs-api-client<0.22.0,>=0.21.0->pyquil<4.0.0,>=3.2.0->cirq-rigetti==1.3.0->cirq) (1.3.4)\n",
      "Requirement already satisfied: iso8601<2.0.0,>=1.0.2 in c:\\users\\pourya\\anaconda3\\lib\\site-packages (from qcs-api-client<0.22.0,>=0.21.0->pyquil<4.0.0,>=3.2.0->cirq-rigetti==1.3.0->cirq) (1.1.0)\n",
      "Requirement already satisfied: rfc3339<7.0,>=6.2 in c:\\users\\pourya\\anaconda3\\lib\\site-packages (from qcs-api-client<0.22.0,>=0.21.0->pyquil<4.0.0,>=3.2.0->cirq-rigetti==1.3.0->cirq) (6.2)\n",
      "Requirement already satisfied: certifi in c:\\users\\pourya\\anaconda3\\lib\\site-packages (from httpx<0.24.0,>=0.23.0->qcs-api-client<0.22.0,>=0.21.0->pyquil<4.0.0,>=3.2.0->cirq-rigetti==1.3.0->cirq) (2021.10.8)\n",
      "Requirement already satisfied: sniffio in c:\\users\\pourya\\anaconda3\\lib\\site-packages (from httpx<0.24.0,>=0.23.0->qcs-api-client<0.22.0,>=0.21.0->pyquil<4.0.0,>=3.2.0->cirq-rigetti==1.3.0->cirq) (1.2.0)\n",
      "Requirement already satisfied: httpcore<0.17.0,>=0.15.0 in c:\\users\\pourya\\anaconda3\\lib\\site-packages (from httpx<0.24.0,>=0.23.0->qcs-api-client<0.22.0,>=0.21.0->pyquil<4.0.0,>=3.2.0->cirq-rigetti==1.3.0->cirq) (0.16.3)\n",
      "Requirement already satisfied: rfc3986[idna2008]<2,>=1.3 in c:\\users\\pourya\\anaconda3\\lib\\site-packages (from httpx<0.24.0,>=0.23.0->qcs-api-client<0.22.0,>=0.21.0->pyquil<4.0.0,>=3.2.0->cirq-rigetti==1.3.0->cirq) (1.5.0)\n",
      "Requirement already satisfied: anyio<5.0,>=3.0 in c:\\users\\pourya\\anaconda3\\lib\\site-packages (from httpcore<0.17.0,>=0.15.0->httpx<0.24.0,>=0.23.0->qcs-api-client<0.22.0,>=0.21.0->pyquil<4.0.0,>=3.2.0->cirq-rigetti==1.3.0->cirq) (4.4.0)\n",
      "Requirement already satisfied: h11<0.15,>=0.13 in c:\\users\\pourya\\anaconda3\\lib\\site-packages (from httpcore<0.17.0,>=0.15.0->httpx<0.24.0,>=0.23.0->qcs-api-client<0.22.0,>=0.21.0->pyquil<4.0.0,>=3.2.0->cirq-rigetti==1.3.0->cirq) (0.14.0)\n",
      "Requirement already satisfied: exceptiongroup>=1.0.2 in c:\\users\\pourya\\anaconda3\\lib\\site-packages (from anyio<5.0,>=3.0->httpcore<0.17.0,>=0.15.0->httpx<0.24.0,>=0.23.0->qcs-api-client<0.22.0,>=0.21.0->pyquil<4.0.0,>=3.2.0->cirq-rigetti==1.3.0->cirq) (1.2.2)\n",
      "Requirement already satisfied: idna>=2.8 in c:\\users\\pourya\\anaconda3\\lib\\site-packages (from anyio<5.0,>=3.0->httpcore<0.17.0,>=0.15.0->httpx<0.24.0,>=0.23.0->qcs-api-client<0.22.0,>=0.21.0->pyquil<4.0.0,>=3.2.0->cirq-rigetti==1.3.0->cirq) (3.2)\n",
      "Requirement already satisfied: charset-normalizer<4,>=2 in c:\\users\\pourya\\anaconda3\\lib\\site-packages (from requests~=2.18->cirq-aqt==1.3.0->cirq) (2.0.4)\n",
      "Requirement already satisfied: urllib3<3,>=1.21.1 in c:\\users\\pourya\\anaconda3\\lib\\site-packages (from requests~=2.18->cirq-aqt==1.3.0->cirq) (1.26.7)\n",
      "Requirement already satisfied: msgpack<2.0,>=0.6 in c:\\users\\pourya\\anaconda3\\lib\\site-packages (from rpcq<4.0.0,>=3.10.0->pyquil<4.0.0,>=3.2.0->cirq-rigetti==1.3.0->cirq) (1.0.2)\n",
      "Requirement already satisfied: ruamel.yaml in c:\\users\\pourya\\anaconda3\\lib\\site-packages (from rpcq<4.0.0,>=3.10.0->pyquil<4.0.0,>=3.2.0->cirq-rigetti==1.3.0->cirq) (0.18.6)\n",
      "Requirement already satisfied: pyzmq>=17 in c:\\users\\pourya\\anaconda3\\lib\\site-packages (from rpcq<4.0.0,>=3.10.0->pyquil<4.0.0,>=3.2.0->cirq-rigetti==1.3.0->cirq) (22.2.1)\n",
      "Requirement already satisfied: python-rapidjson in c:\\users\\pourya\\anaconda3\\lib\\site-packages (from rpcq<4.0.0,>=3.10.0->pyquil<4.0.0,>=3.2.0->cirq-rigetti==1.3.0->cirq) (1.18)\n",
      "Requirement already satisfied: ipykernel>=4.5.1 in c:\\users\\pourya\\anaconda3\\lib\\site-packages (from ipywidgets->cirq-ft==1.3.0->cirq) (6.4.1)\n",
      "Requirement already satisfied: ipython>=4.0.0 in c:\\users\\pourya\\anaconda3\\lib\\site-packages (from ipywidgets->cirq-ft==1.3.0->cirq) (7.29.0)\n",
      "Requirement already satisfied: jupyterlab-widgets>=1.0.0 in c:\\users\\pourya\\anaconda3\\lib\\site-packages (from ipywidgets->cirq-ft==1.3.0->cirq) (1.0.0)\n",
      "Requirement already satisfied: traitlets>=4.3.1 in c:\\users\\pourya\\anaconda3\\lib\\site-packages (from ipywidgets->cirq-ft==1.3.0->cirq) (5.1.0)\n",
      "Requirement already satisfied: widgetsnbextension~=3.5.0 in c:\\users\\pourya\\anaconda3\\lib\\site-packages (from ipywidgets->cirq-ft==1.3.0->cirq) (3.5.1)\n",
      "Requirement already satisfied: ipython-genutils~=0.2.0 in c:\\users\\pourya\\anaconda3\\lib\\site-packages (from ipywidgets->cirq-ft==1.3.0->cirq) (0.2.0)\n",
      "Requirement already satisfied: debugpy<2.0,>=1.0.0 in c:\\users\\pourya\\anaconda3\\lib\\site-packages (from ipykernel>=4.5.1->ipywidgets->cirq-ft==1.3.0->cirq) (1.4.1)\n",
      "Requirement already satisfied: tornado<7.0,>=4.2 in c:\\users\\pourya\\anaconda3\\lib\\site-packages (from ipykernel>=4.5.1->ipywidgets->cirq-ft==1.3.0->cirq) (6.1)\n",
      "Requirement already satisfied: matplotlib-inline<0.2.0,>=0.1.0 in c:\\users\\pourya\\anaconda3\\lib\\site-packages (from ipykernel>=4.5.1->ipywidgets->cirq-ft==1.3.0->cirq) (0.1.2)\n",
      "Requirement already satisfied: jupyter-client<8.0 in c:\\users\\pourya\\anaconda3\\lib\\site-packages (from ipykernel>=4.5.1->ipywidgets->cirq-ft==1.3.0->cirq) (6.1.12)\n",
      "Requirement already satisfied: pygments in c:\\users\\pourya\\anaconda3\\lib\\site-packages (from ipython>=4.0.0->ipywidgets->cirq-ft==1.3.0->cirq) (2.10.0)\n",
      "Requirement already satisfied: pickleshare in c:\\users\\pourya\\anaconda3\\lib\\site-packages (from ipython>=4.0.0->ipywidgets->cirq-ft==1.3.0->cirq) (0.7.5)\n",
      "Requirement already satisfied: backcall in c:\\users\\pourya\\anaconda3\\lib\\site-packages (from ipython>=4.0.0->ipywidgets->cirq-ft==1.3.0->cirq) (0.2.0)\n",
      "Requirement already satisfied: decorator in c:\\users\\pourya\\anaconda3\\lib\\site-packages (from ipython>=4.0.0->ipywidgets->cirq-ft==1.3.0->cirq) (5.1.0)\n",
      "Requirement already satisfied: prompt-toolkit!=3.0.0,!=3.0.1,<3.1.0,>=2.0.0 in c:\\users\\pourya\\anaconda3\\lib\\site-packages (from ipython>=4.0.0->ipywidgets->cirq-ft==1.3.0->cirq) (3.0.20)\n",
      "Requirement already satisfied: setuptools>=18.5 in c:\\users\\pourya\\anaconda3\\lib\\site-packages (from ipython>=4.0.0->ipywidgets->cirq-ft==1.3.0->cirq) (58.0.4)\n",
      "Requirement already satisfied: colorama in c:\\users\\pourya\\anaconda3\\lib\\site-packages (from ipython>=4.0.0->ipywidgets->cirq-ft==1.3.0->cirq) (0.4.4)\n",
      "Requirement already satisfied: jedi>=0.16 in c:\\users\\pourya\\anaconda3\\lib\\site-packages (from ipython>=4.0.0->ipywidgets->cirq-ft==1.3.0->cirq) (0.18.0)\n",
      "Requirement already satisfied: parso<0.9.0,>=0.8.0 in c:\\users\\pourya\\anaconda3\\lib\\site-packages (from jedi>=0.16->ipython>=4.0.0->ipywidgets->cirq-ft==1.3.0->cirq) (0.8.2)\n",
      "Requirement already satisfied: jupyter-core>=4.6.0 in c:\\users\\pourya\\anaconda3\\lib\\site-packages (from jupyter-client<8.0->ipykernel>=4.5.1->ipywidgets->cirq-ft==1.3.0->cirq) (4.8.1)\n",
      "Requirement already satisfied: pywin32>=1.0 in c:\\users\\pourya\\anaconda3\\lib\\site-packages (from jupyter-core>=4.6.0->jupyter-client<8.0->ipykernel>=4.5.1->ipywidgets->cirq-ft==1.3.0->cirq) (228)\n",
      "Requirement already satisfied: jsonschema!=2.5.0,>=2.4 in c:\\users\\pourya\\anaconda3\\lib\\site-packages (from nbformat->cirq-ft==1.3.0->cirq) (3.2.0)\n",
      "Requirement already satisfied: pyrsistent>=0.14.0 in c:\\users\\pourya\\anaconda3\\lib\\site-packages (from jsonschema!=2.5.0,>=2.4->nbformat->cirq-ft==1.3.0->cirq) (0.18.0)\n",
      "Requirement already satisfied: wcwidth in c:\\users\\pourya\\anaconda3\\lib\\site-packages (from prompt-toolkit!=3.0.0,!=3.0.1,<3.1.0,>=2.0.0->ipython>=4.0.0->ipywidgets->cirq-ft==1.3.0->cirq) (0.2.5)\n",
      "Requirement already satisfied: notebook>=4.4.1 in c:\\users\\pourya\\anaconda3\\lib\\site-packages (from widgetsnbextension~=3.5.0->ipywidgets->cirq-ft==1.3.0->cirq) (6.4.5)\n",
      "Requirement already satisfied: Send2Trash>=1.5.0 in c:\\users\\pourya\\anaconda3\\lib\\site-packages (from notebook>=4.4.1->widgetsnbextension~=3.5.0->ipywidgets->cirq-ft==1.3.0->cirq) (1.8.0)\n",
      "Requirement already satisfied: argon2-cffi in c:\\users\\pourya\\anaconda3\\lib\\site-packages (from notebook>=4.4.1->widgetsnbextension~=3.5.0->ipywidgets->cirq-ft==1.3.0->cirq) (20.1.0)\n",
      "Requirement already satisfied: jinja2 in c:\\users\\pourya\\anaconda3\\lib\\site-packages (from notebook>=4.4.1->widgetsnbextension~=3.5.0->ipywidgets->cirq-ft==1.3.0->cirq) (2.11.3)\n",
      "Requirement already satisfied: prometheus-client in c:\\users\\pourya\\anaconda3\\lib\\site-packages (from notebook>=4.4.1->widgetsnbextension~=3.5.0->ipywidgets->cirq-ft==1.3.0->cirq) (0.11.0)\n",
      "Requirement already satisfied: terminado>=0.8.3 in c:\\users\\pourya\\anaconda3\\lib\\site-packages (from notebook>=4.4.1->widgetsnbextension~=3.5.0->ipywidgets->cirq-ft==1.3.0->cirq) (0.9.4)\n",
      "Requirement already satisfied: pywinpty>=0.5 in c:\\users\\pourya\\anaconda3\\lib\\site-packages (from terminado>=0.8.3->notebook>=4.4.1->widgetsnbextension~=3.5.0->ipywidgets->cirq-ft==1.3.0->cirq) (0.5.7)\n",
      "Requirement already satisfied: cffi>=1.0.0 in c:\\users\\pourya\\anaconda3\\lib\\site-packages (from argon2-cffi->notebook>=4.4.1->widgetsnbextension~=3.5.0->ipywidgets->cirq-ft==1.3.0->cirq) (1.14.6)\n",
      "Requirement already satisfied: pycparser in c:\\users\\pourya\\anaconda3\\lib\\site-packages (from cffi>=1.0.0->argon2-cffi->notebook>=4.4.1->widgetsnbextension~=3.5.0->ipywidgets->cirq-ft==1.3.0->cirq) (2.20)\n",
      "Requirement already satisfied: MarkupSafe>=0.23 in c:\\users\\pourya\\anaconda3\\lib\\site-packages (from jinja2->notebook>=4.4.1->widgetsnbextension~=3.5.0->ipywidgets->cirq-ft==1.3.0->cirq) (1.1.1)\n",
      "Requirement already satisfied: nbclient<0.6.0,>=0.5.0 in c:\\users\\pourya\\anaconda3\\lib\\site-packages (from nbconvert->cirq-ft==1.3.0->cirq) (0.5.3)\n",
      "Requirement already satisfied: entrypoints>=0.2.2 in c:\\users\\pourya\\anaconda3\\lib\\site-packages (from nbconvert->cirq-ft==1.3.0->cirq) (0.3)\n",
      "Requirement already satisfied: defusedxml in c:\\users\\pourya\\anaconda3\\lib\\site-packages (from nbconvert->cirq-ft==1.3.0->cirq) (0.7.1)\n",
      "Requirement already satisfied: mistune<2,>=0.8.1 in c:\\users\\pourya\\anaconda3\\lib\\site-packages (from nbconvert->cirq-ft==1.3.0->cirq) (0.8.4)\n",
      "Requirement already satisfied: jupyterlab-pygments in c:\\users\\pourya\\anaconda3\\lib\\site-packages (from nbconvert->cirq-ft==1.3.0->cirq) (0.1.2)\n",
      "Requirement already satisfied: bleach in c:\\users\\pourya\\anaconda3\\lib\\site-packages (from nbconvert->cirq-ft==1.3.0->cirq) (4.0.0)\n",
      "Requirement already satisfied: pandocfilters>=1.4.1 in c:\\users\\pourya\\anaconda3\\lib\\site-packages (from nbconvert->cirq-ft==1.3.0->cirq) (1.4.3)\n",
      "Requirement already satisfied: testpath in c:\\users\\pourya\\anaconda3\\lib\\site-packages (from nbconvert->cirq-ft==1.3.0->cirq) (0.5.0)\n",
      "Requirement already satisfied: async-generator in c:\\users\\pourya\\anaconda3\\lib\\site-packages (from nbclient<0.6.0,>=0.5.0->nbconvert->cirq-ft==1.3.0->cirq) (1.10)\n",
      "Requirement already satisfied: nest-asyncio in c:\\users\\pourya\\anaconda3\\lib\\site-packages (from nbclient<0.6.0,>=0.5.0->nbconvert->cirq-ft==1.3.0->cirq) (1.5.1)\n",
      "Requirement already satisfied: packaging in c:\\users\\pourya\\anaconda3\\lib\\site-packages (from bleach->nbconvert->cirq-ft==1.3.0->cirq) (21.0)\n",
      "Requirement already satisfied: webencodings in c:\\users\\pourya\\anaconda3\\lib\\site-packages (from bleach->nbconvert->cirq-ft==1.3.0->cirq) (0.5.1)\n",
      "Requirement already satisfied: pytz>=2017.3 in c:\\users\\pourya\\anaconda3\\lib\\site-packages (from pandas->cirq-core==1.3.0->cirq) (2023.3)\n",
      "Requirement already satisfied: ruamel.yaml.clib>=0.2.7 in c:\\users\\pourya\\anaconda3\\lib\\site-packages (from ruamel.yaml->rpcq<4.0.0,>=3.10.0->pyquil<4.0.0,>=3.2.0->cirq-rigetti==1.3.0->cirq) (0.2.8)\n",
      "Requirement already satisfied: mpmath>=0.19 in c:\\users\\pourya\\anaconda3\\lib\\site-packages (from sympy->cirq-core==1.3.0->cirq) (1.2.1)\n"
     ]
    }
   ],
   "source": [
    "!pip install cirq"
   ]
  },
  {
   "cell_type": "code",
   "execution_count": 97,
   "id": "34daf18b",
   "metadata": {},
   "outputs": [
    {
     "data": {
      "text/plain": [
       "[cirq.GridQubit(0, 0),\n",
       " cirq.GridQubit(0, 1),\n",
       " cirq.GridQubit(1, 0),\n",
       " cirq.GridQubit(1, 1)]"
      ]
     },
     "execution_count": 97,
     "metadata": {},
     "output_type": "execute_result"
    }
   ],
   "source": [
    "import cirq\n",
    "import numpy as np\n",
    "\n",
    "# used to label qubits by an abstract name\n",
    "q0=cirq.NamedQubit('Pouriya')\n",
    "q1=cirq.NamedQubit('source')\n",
    "q2=cirq.NamedQubit('target')\n",
    "\n",
    "# qubits labelled by number in a linear array\n",
    "q3=cirq.LineQubit(0)\n",
    "q4=cirq.LineQubit(1)\n",
    "q5=cirq.LineQubit(2)\n",
    "\n",
    "q = cirq.LineQubit.range(3) #array\n",
    "qu3,qu4,qu5 = cirq.LineQubit.range(3) #variable\n",
    "\n",
    "# qubits labelled by two numbers in a rectangular lattice.\n",
    "q4_5 = cirq.GridQubit(4,5)\n",
    "\n",
    "qi_j = cirq.GridQubit.square(2)\n",
    "qi_j"
   ]
  },
  {
   "cell_type": "code",
   "execution_count": 98,
   "id": "837c67c1",
   "metadata": {},
   "outputs": [
    {
     "data": {
      "text/plain": [
       "cirq.X(cirq.NamedQubit('Pouriya'))"
      ]
     },
     "execution_count": 98,
     "metadata": {},
     "output_type": "execute_result"
    }
   ],
   "source": [
    "from cirq.ops import *\n",
    "a=cirq.X(q0)\n",
    "a"
   ]
  },
  {
   "cell_type": "code",
   "execution_count": 99,
   "id": "9fba9bb9",
   "metadata": {},
   "outputs": [
    {
     "data": {
      "text/plain": [
       "cirq.WaitGate(cirq.Duration(millis=0))"
      ]
     },
     "execution_count": 99,
     "metadata": {},
     "output_type": "execute_result"
    }
   ],
   "source": [
    "d = np.array([[0,1],\n",
    "              [1,0]])\n",
    "cirq.unitary(cirq.MatrixGate(d)(q0))\n",
    "cirq.WaitGate(cirq.Duration==10)"
   ]
  },
  {
   "cell_type": "code",
   "execution_count": 100,
   "id": "73cefe7d",
   "metadata": {},
   "outputs": [],
   "source": [
    "class MyGate(cirq.Gate):\n",
    "    def __init__(self):\n",
    "        super(MyGate,self)\n",
    "    \n",
    "    def _num_qubits_(self):\n",
    "        return 1\n",
    "    \n",
    "    def _unitary_(self):\n",
    "        return np.array([\n",
    "            [1,1],\n",
    "            [-1,1]])/np.sqrt(2)\n",
    "    \n",
    "    def _circuit_diagram_info_(self,args):\n",
    "        return 'Qorpi'\n",
    "    \n",
    "mygate=MyGate()"
   ]
  },
  {
   "cell_type": "code",
   "execution_count": 101,
   "id": "14b3de26",
   "metadata": {},
   "outputs": [],
   "source": [
    "class PouriyaGate(cirq.Gate):\n",
    "    def __init__(self):\n",
    "        super(PouriyaGate,self)\n",
    "    \n",
    "    def _num_qubits_(self):\n",
    "        return 2\n",
    "    \n",
    "    def _unitary_(self):\n",
    "        return np.array([\n",
    "            [1,-1,0,0],\n",
    "            [0,0,-1,1],\n",
    "            [1,-1,0,0],\n",
    "            [0,0,-1,1] \n",
    "        ])/np.sqrt(2)\n",
    "    \n",
    "    def _circuit_diagram_info_(self,args):\n",
    "        return 'PouriyaGate1','PouriyaGate2'\n",
    "    \n",
    "PGate=PouriyaGate()"
   ]
  },
  {
   "cell_type": "code",
   "execution_count": 102,
   "id": "dbbb4fd8",
   "metadata": {},
   "outputs": [
    {
     "data": {
      "text/html": [
       "<pre style=\"overflow: auto; white-space: pre;\">                ┌──┐\n",
       "alice: ─────H────@─────\n",
       "                 │\n",
       "bob: ───────H────┼H────\n",
       "                 │\n",
       "pouriya: ────────X─────\n",
       "                └──┘</pre>"
      ],
      "text/plain": [
       "                ┌──┐\n",
       "alice: ─────H────@─────\n",
       "                 │\n",
       "bob: ───────H────┼H────\n",
       "                 │\n",
       "pouriya: ────────X─────\n",
       "                └──┘"
      ]
     },
     "execution_count": 102,
     "metadata": {},
     "output_type": "execute_result"
    }
   ],
   "source": [
    "a = cirq.NamedQubit('alice')\n",
    "b = cirq.NamedQubit('bob')\n",
    "p = cirq.NamedQubit('pouriya')\n",
    "\n",
    "opr = [cirq.H(a),cirq.H(b),cirq.CNOT(a,p),cirq.H(b)]\n",
    "\n",
    "c=cirq.Circuit(opr)\n",
    "c"
   ]
  },
  {
   "cell_type": "code",
   "execution_count": 103,
   "id": "1bbab71e",
   "metadata": {},
   "outputs": [
    {
     "ename": "TypeError",
     "evalue": "'function' object is not subscriptable",
     "output_type": "error",
     "traceback": [
      "\u001b[1;31m---------------------------------------------------------------------------\u001b[0m",
      "\u001b[1;31mTypeError\u001b[0m                                 Traceback (most recent call last)",
      "\u001b[1;32m~\\AppData\\Local\\Temp/ipykernel_12700/4177431895.py\u001b[0m in \u001b[0;36m<module>\u001b[1;34m\u001b[0m\n\u001b[0;32m      1\u001b[0m \u001b[0mqubits\u001b[0m \u001b[1;33m=\u001b[0m \u001b[0mcirq\u001b[0m\u001b[1;33m.\u001b[0m\u001b[0mLineQubit\u001b[0m\u001b[1;33m.\u001b[0m\u001b[0mrange\u001b[0m\u001b[1;33m(\u001b[0m\u001b[1;36m3\u001b[0m\u001b[1;33m)\u001b[0m\u001b[1;33m\u001b[0m\u001b[1;33m\u001b[0m\u001b[0m\n\u001b[1;32m----> 2\u001b[1;33m \u001b[0mopr\u001b[0m \u001b[1;33m=\u001b[0m \u001b[1;33m[\u001b[0m\u001b[0mcirq\u001b[0m\u001b[1;33m.\u001b[0m\u001b[0mH\u001b[0m\u001b[1;33m(\u001b[0m\u001b[0mq\u001b[0m\u001b[1;33m[\u001b[0m\u001b[1;36m0\u001b[0m\u001b[1;33m]\u001b[0m\u001b[1;33m)\u001b[0m\u001b[1;33m,\u001b[0m\u001b[0mcirq\u001b[0m\u001b[1;33m.\u001b[0m\u001b[0mH\u001b[0m\u001b[1;33m(\u001b[0m\u001b[0mq\u001b[0m\u001b[1;33m[\u001b[0m\u001b[1;36m1\u001b[0m\u001b[1;33m]\u001b[0m\u001b[1;33m)\u001b[0m\u001b[1;33m,\u001b[0m\u001b[0mcirq\u001b[0m\u001b[1;33m.\u001b[0m\u001b[0mCNOT\u001b[0m\u001b[1;33m(\u001b[0m\u001b[0mq\u001b[0m\u001b[1;33m[\u001b[0m\u001b[1;36m1\u001b[0m\u001b[1;33m]\u001b[0m\u001b[1;33m,\u001b[0m\u001b[0mq\u001b[0m\u001b[1;33m[\u001b[0m\u001b[1;36m2\u001b[0m\u001b[1;33m]\u001b[0m\u001b[1;33m)\u001b[0m\u001b[1;33m]\u001b[0m\u001b[1;33m\u001b[0m\u001b[1;33m\u001b[0m\u001b[0m\n\u001b[0m\u001b[0;32m      3\u001b[0m \u001b[0mcirq\u001b[0m\u001b[1;33m.\u001b[0m\u001b[0mCircuit\u001b[0m\u001b[1;33m(\u001b[0m\u001b[0mopr\u001b[0m\u001b[1;33m)\u001b[0m\u001b[1;33m\u001b[0m\u001b[1;33m\u001b[0m\u001b[0m\n",
      "\u001b[1;31mTypeError\u001b[0m: 'function' object is not subscriptable"
     ]
    }
   ],
   "source": [
    "qubits = cirq.LineQubit.range(3)\n",
    "opr = [cirq.H(q[0]),cirq.H(q[1]),cirq.CNOT(q[1],q[2])]\n",
    "cirq.Circuit(opr)"
   ]
  },
  {
   "cell_type": "code",
   "execution_count": 104,
   "id": "64c00ff4",
   "metadata": {},
   "outputs": [
    {
     "data": {
      "text/html": [
       "<pre style=\"overflow: auto; white-space: pre;\">                  ┌   ┐\n",
       "0: ───Rx(π)───@───│0 1│───\n",
       "              │   │1 0│\n",
       "              │   └   ┘\n",
       "              │\n",
       "1: ───────────X───────────</pre>"
      ],
      "text/plain": [
       "                  ┌   ┐\n",
       "0: ───Rx(π)───@───│0 1│───\n",
       "              │   │1 0│\n",
       "              │   └   ┘\n",
       "              │\n",
       "1: ───────────X───────────"
      ]
     },
     "execution_count": 104,
     "metadata": {},
     "output_type": "execute_result"
    }
   ],
   "source": [
    "q = cirq.LineQubit.range(2)\n",
    "d = np.array([[0,1],\n",
    "              [1,0]])\n",
    "\n",
    "c = cirq.Circuit()\n",
    "c.append([cirq.rx(np.pi)(q[0]),cirq.CNOT(q[0],q[1]),cirq.MatrixGate(d)(q[0])])\n",
    "\n",
    "c"
   ]
  },
  {
   "cell_type": "code",
   "execution_count": 105,
   "id": "7fb90b3e",
   "metadata": {},
   "outputs": [
    {
     "data": {
      "text/html": [
       "<pre style=\"overflow: auto; white-space: pre;\">alice: ─────@───X───@───\n",
       "            │   │   │\n",
       "pouriya: ───X───@───X───</pre>"
      ],
      "text/plain": [
       "alice: ─────@───X───@───\n",
       "            │   │   │\n",
       "pouriya: ───X───@───X───"
      ]
     },
     "execution_count": 105,
     "metadata": {},
     "output_type": "execute_result"
    }
   ],
   "source": [
    "a = cirq.NamedQubit('alice')\n",
    "b = cirq.NamedQubit('bob')\n",
    "p = cirq.NamedQubit('pouriya')\n",
    "\n",
    "def xor_swap(a,b):\n",
    "    yield cirq.CNOT(a,b)\n",
    "    yield cirq.CNOT(b,a)\n",
    "    yield cirq.CNOT(a,b)\n",
    "    \n",
    "cirq.Circuit(xor_swap(a,p))"
   ]
  },
  {
   "cell_type": "code",
   "execution_count": 106,
   "id": "2cb5d2c2",
   "metadata": {},
   "outputs": [
    {
     "data": {
      "text/html": [
       "<pre style=\"overflow: auto; white-space: pre;\">alice: ─────H───X───\n",
       "                │\n",
       "pouriya: ───────@───</pre>"
      ],
      "text/plain": [
       "alice: ─────H───X───\n",
       "                │\n",
       "pouriya: ───────@───"
      ]
     },
     "execution_count": 106,
     "metadata": {},
     "output_type": "execute_result"
    }
   ],
   "source": [
    "def bell(a,b):\n",
    "    yield cirq.H(a)\n",
    "    yield cirq.CNOT(b,a)\n",
    "\n",
    "cirq.Circuit(bell(a,p))"
   ]
  },
  {
   "cell_type": "code",
   "execution_count": 107,
   "id": "db59db0d",
   "metadata": {},
   "outputs": [
    {
     "name": "stdout",
     "output_type": "stream",
     "text": [
      "  ╷ 0 1 2\n",
      "╶─┼───────\n",
      "0 │ @─@ X\n",
      "  │\n"
     ]
    },
    {
     "data": {
      "text/plain": [
       "cirq.Moment(\n",
       "    cirq.X(cirq.GridQubit(0, 2)),\n",
       "    cirq.CZ(cirq.GridQubit(0, 0), cirq.GridQubit(0, 1)),\n",
       ")"
      ]
     },
     "execution_count": 107,
     "metadata": {},
     "output_type": "execute_result"
    }
   ],
   "source": [
    "q = cirq.GridQubit.square(3)\n",
    "cz=cirq.CZ(q[0],q[1])\n",
    "x=cirq.X(q[2])\n",
    "print(cirq.Moment([x,cz]))\n",
    "cirq.Moment([x,cz])"
   ]
  },
  {
   "cell_type": "code",
   "execution_count": 108,
   "id": "4b98138c",
   "metadata": {},
   "outputs": [
    {
     "name": "stdout",
     "output_type": "stream",
     "text": [
      "  ╷ 0 1 2\n",
      "╶─┼───────\n",
      "0 │ @─@ X\n",
      "  │\n",
      "  ╷ 1 2\n",
      "╶─┼─────\n",
      "0 │ @─@\n",
      "  │\n",
      "(0, 0): ───@───────\n",
      "           │\n",
      "(0, 1): ───@───@───\n",
      "               │\n",
      "(0, 2): ───X───@───\n"
     ]
    }
   ],
   "source": [
    "cz01=cirq.CZ(q[0],q[1])\n",
    "x1=cirq.X(q[2])\n",
    "cz21=cirq.CZ(q[2],q[1])\n",
    "m0=cirq.Moment([cz01,x1])\n",
    "m1=cirq.Moment([cz21])\n",
    "c=cirq.Circuit((m0,m1))\n",
    "print(m0)\n",
    "print(m1)\n",
    "print(c)"
   ]
  },
  {
   "cell_type": "code",
   "execution_count": 112,
   "id": "211be315",
   "metadata": {},
   "outputs": [
    {
     "name": "stdout",
     "output_type": "stream",
     "text": [
      "  ╷ 0\n",
      "╶─┼───\n",
      "0 │ H\n",
      "  │\n",
      "  ╷ 0 1\n",
      "╶─┼─────\n",
      "0 │ @─@\n",
      "  │\n",
      "0: ───H───@───\n",
      "          │\n",
      "1: ───────@───\n"
     ]
    }
   ],
   "source": [
    "q0=cirq.LineQubit(0)\n",
    "q1=cirq.LineQubit(1)\n",
    "\n",
    "c=cirq.Circuit(cirq.H(q0),cirq.CZ(q0,q1))\n",
    "\n",
    "for m in c:\n",
    "    print(m)\n",
    "print(c)"
   ]
  },
  {
   "cell_type": "code",
   "execution_count": 117,
   "id": "baaf12a8",
   "metadata": {},
   "outputs": [
    {
     "name": "stdout",
     "output_type": "stream",
     "text": [
      "0: ───H───@───\n",
      "          │\n",
      "1: ───────@───\n"
     ]
    }
   ],
   "source": [
    "c=cirq.Circuit(cirq.H(q0),cirq.CZ(q0,q1),cirq.H(q1),cirq.CZ(q0,q1))\n",
    "print(c[:2])"
   ]
  },
  {
   "cell_type": "code",
   "execution_count": 118,
   "id": "e43af110",
   "metadata": {},
   "outputs": [
    {
     "name": "stdout",
     "output_type": "stream",
     "text": [
      "measurements: (no measurements)\n",
      "\n",
      "qubits: (cirq.LineQubit(0),)\n",
      "output vector: |1⟩\n",
      "\n",
      "phase:\n",
      "output vector: |⟩\n"
     ]
    }
   ],
   "source": [
    "q0=cirq.LineQubit(0)\n",
    "c=cirq.Circuit()\n",
    "c.append(cirq.X(q0))\n",
    "\n",
    "s=cirq.Simulator()\n",
    "r=s.simulate(c)\n",
    "print(r)"
   ]
  },
  {
   "cell_type": "code",
   "execution_count": 119,
   "id": "a810356d",
   "metadata": {},
   "outputs": [
    {
     "name": "stdout",
     "output_type": "stream",
     "text": [
      "measurements: (no measurements)\n",
      "\n",
      "qubits: (cirq.LineQubit(0),)\n",
      "output vector: 0.707|0⟩ + 0.707|1⟩\n",
      "\n",
      "qubits: (cirq.LineQubit(1), cirq.NamedQubit('target'))\n",
      "output vector: |00⟩\n",
      "\n",
      "phase:\n",
      "output vector: |⟩\n"
     ]
    }
   ],
   "source": [
    "q0=cirq.LineQubit(0)\n",
    "q1=cirq.LineQubit(1)\n",
    "\n",
    "bell=cirq.Circuit()\n",
    "bell.append(cirq.H(q0))\n",
    "bell.append(cirq.CNOT(q1,q2))\n",
    "\n",
    "s=cirq.Simulator()\n",
    "r=s.simulate(bell)\n",
    "print(r)"
   ]
  },
  {
   "cell_type": "code",
   "execution_count": 141,
   "id": "a5485d62",
   "metadata": {},
   "outputs": [
    {
     "name": "stdout",
     "output_type": "stream",
     "text": [
      "Result=00011, 00000\n",
      "Counter({0: 3, 2: 2})\n"
     ]
    }
   ],
   "source": [
    "q0=cirq.LineQubit(0)\n",
    "q1=cirq.LineQubit(1)\n",
    "\n",
    "bell=cirq.Circuit()\n",
    "bell.append(cirq.H(q0))\n",
    "bell.append(cirq.CNOT(q1,q2))\n",
    "bell.append(measure(q0,q1,key='Result'))\n",
    "s=cirq.Simulator()\n",
    "r=s.run(bell,repetitions=5)\n",
    "print(r)\n",
    "print(r.histogram(key='Result'))"
   ]
  },
  {
   "cell_type": "code",
   "execution_count": 149,
   "id": "f021581f",
   "metadata": {},
   "outputs": [
    {
     "name": "stdout",
     "output_type": "stream",
     "text": [
      "alice: ───X^0.5───@───X^0.5───M───\n",
      "                  │           │\n",
      "bob: ─────X^0.5───@───X^0.5───M───\n"
     ]
    }
   ],
   "source": [
    "a=cirq.NamedQubit('alice')\n",
    "b=cirq.NamedQubit('bob')\n",
    "p=cirq.NamedQubit('pouriya')\n",
    "\n",
    "def Cir(measure=True):\n",
    "    sx=cirq.X**0.5\n",
    "    cz=cirq.CZ\n",
    "    \n",
    "    yield sx(a),sx(b)\n",
    "    yield cz(a,b)\n",
    "    yield sx(a),sx(b)\n",
    "    \n",
    "    if measure:\n",
    "        yield cirq.measure(a,b)\n",
    "c=cirq.Circuit(Cir())\n",
    "print(c)"
   ]
  },
  {
   "cell_type": "code",
   "execution_count": 154,
   "id": "5497968a",
   "metadata": {},
   "outputs": [
    {
     "data": {
      "text/plain": [
       "alice,bob=1, 0"
      ]
     },
     "execution_count": 154,
     "metadata": {},
     "output_type": "execute_result"
    }
   ],
   "source": [
    "s=cirq.Simulator()\n",
    "r=s.run(c,repetitions=1)\n",
    "r"
   ]
  },
  {
   "cell_type": "code",
   "execution_count": 166,
   "id": "d9f82acb",
   "metadata": {},
   "outputs": [
    {
     "name": "stdout",
     "output_type": "stream",
     "text": [
      "[0.5+0.j  0. +0.5j 0. +0.5j 0.5+0.j ]\n"
     ]
    }
   ],
   "source": [
    "c=cirq.Circuit(Cir(measure=False))\n",
    "r=s.simulate(c,qubit_order=[a,b])\n",
    "print(np.around(r.final_state_vector,2))"
   ]
  },
  {
   "cell_type": "code",
   "execution_count": 167,
   "id": "063efec3",
   "metadata": {},
   "outputs": [
    {
     "name": "stdout",
     "output_type": "stream",
     "text": [
      "0.5|00⟩ + 0.5j|01⟩ + 0.5j|10⟩ + 0.5|11⟩\n"
     ]
    }
   ],
   "source": [
    "print(r.dirac_notation())"
   ]
  },
  {
   "cell_type": "code",
   "execution_count": 185,
   "id": "88078eba",
   "metadata": {},
   "outputs": [
    {
     "name": "stdout",
     "output_type": "stream",
     "text": [
      "Counter({1: 259, 3: 255, 2: 244, 0: 242})\n"
     ]
    }
   ],
   "source": [
    "c=cirq.Circuit(Cir())\n",
    "r=s.run(c,repetitions=1000)\n",
    "print(r.histogram(key='alice,bob'))"
   ]
  },
  {
   "cell_type": "code",
   "execution_count": 199,
   "id": "9c769251",
   "metadata": {},
   "outputs": [
    {
     "name": "stdout",
     "output_type": "stream",
     "text": [
      "Circuit\n",
      "0: ───X───@───\n",
      "          │\n",
      "1: ───────X───\n",
      "-------\n",
      "result : \n",
      "measurements: (no measurements)\n",
      "\n",
      "qubits: (cirq.LineQubit(0), cirq.LineQubit(1))\n",
      "output vector: |11⟩\n",
      "\n",
      "phase:\n",
      "output vector: |⟩\n",
      "-------\n",
      "final_state_vector :  [0.+0.j 0.+0.j 0.+0.j 1.+0.j]\n",
      "-------\n",
      "dirac_notation :  |11⟩\n",
      "-------\n",
      "expectation_values :  [0j]\n"
     ]
    }
   ],
   "source": [
    "#expectaion value\n",
    "q0=cirq.LineQubit(0)\n",
    "q1=cirq.LineQubit(1)\n",
    "c=cirq.Circuit()\n",
    "c.append([cirq.X(q0),cirq.CNOT(q0,q1)])\n",
    "print('Circuit')\n",
    "print(c)\n",
    "print('-------')\n",
    "s=cirq.Simulator()\n",
    "r=s.simulate(c)\n",
    "print('result : ')\n",
    "print(r)\n",
    "print('-------')\n",
    "print('final_state_vector : ',r.final_state_vector)\n",
    "print('-------')\n",
    "print('dirac_notation : ',r.dirac_notation())\n",
    "print('-------')\n",
    "xx=cirq.X(q0)*cirq.X(q1)\n",
    "ev=s.simulate_expectation_values(c,observables=[xx])\n",
    "print('expectation_values : ',ev)"
   ]
  },
  {
   "cell_type": "code",
   "execution_count": 208,
   "id": "c5e1dbe1",
   "metadata": {},
   "outputs": [
    {
     "name": "stdout",
     "output_type": "stream",
     "text": [
      "Z(qubit_0)*Z(qubit_1)\n",
      "[[ 1.+0.j  0.+0.j  0.+0.j  0.+0.j]\n",
      " [ 0.+0.j -1.+0.j  0.+0.j -0.+0.j]\n",
      " [ 0.+0.j  0.+0.j -1.+0.j -0.+0.j]\n",
      " [ 0.+0.j -0.+0.j -0.+0.j  1.-0.j]]\n"
     ]
    }
   ],
   "source": [
    "#obsevables\n",
    "q = cirq.NamedQubit.range(2,prefix='qubit_')\n",
    "zz=cirq.PauliString(cirq.Z(i) for i in q)\n",
    "print(zz)\n",
    "print(zz.matrix())"
   ]
  },
  {
   "cell_type": "code",
   "execution_count": 210,
   "id": "984c4aac",
   "metadata": {},
   "outputs": [
    {
     "name": "stdout",
     "output_type": "stream",
     "text": [
      "1.500*Z(qubit_0)*Z(qubit_1)-0.700*X(qubit_0)*X(qubit_1)\n",
      "[[ 1.5+0.j  0. +0.j  0. +0.j -0.7+0.j]\n",
      " [ 0. +0.j -1.5+0.j -0.7+0.j  0. +0.j]\n",
      " [ 0. +0.j -0.7+0.j -1.5+0.j  0. +0.j]\n",
      " [-0.7+0.j  0. +0.j  0. +0.j  1.5+0.j]]\n"
     ]
    }
   ],
   "source": [
    "xx=cirq.PauliString(cirq.X(i) for i in q)\n",
    "p=1.5*zz-0.7*xx\n",
    "print(p)\n",
    "print(p.matrix())"
   ]
  },
  {
   "cell_type": "code",
   "execution_count": 215,
   "id": "3d5c75ff",
   "metadata": {},
   "outputs": [
    {
     "name": "stdout",
     "output_type": "stream",
     "text": [
      "[1.+0.j 0.+0.j 0.+0.j 0.+0.j]\n",
      "[-0.12+0.16j  0.32+0.24j  0.32+0.24j  0.49-0.64j]\n",
      "[-0.1 -0.35j  0.46-0.13j  0.46-0.13j  0.17+0.61j]\n",
      "[ 0.89+0.36j  0.07-0.17j  0.07-0.17j -0.03-0.01j]\n",
      "[-0.06+0.04j  0.13+0.22j  0.13+0.22j  0.8 -0.48j]\n"
     ]
    }
   ],
   "source": [
    "#Parameterized values and studies\n",
    "import sympy\n",
    "q0=cirq.LineQubit(0)\n",
    "q1=cirq.LineQubit(1)\n",
    "s=cirq.Simulator()\n",
    "rx=cirq.X**sympy.Symbol('x')\n",
    "c=cirq.Circuit()\n",
    "c.append([rx(q0),rx(q1)])\n",
    "\n",
    "x_range=5\n",
    "for i in range(x_range):\n",
    "    resolver=cirq.ParamResolver({'x':i/np.sqrt(2)})\n",
    "    r=s.simulate(c,resolver)\n",
    "    print(np.round(r.final_state_vector,2))"
   ]
  },
  {
   "cell_type": "code",
   "execution_count": 216,
   "id": "a26dc905",
   "metadata": {},
   "outputs": [
    {
     "name": "stdout",
     "output_type": "stream",
     "text": [
      "Collecting qsimcirq\n",
      "  Downloading qsimcirq-0.21.0-cp39-cp39-win_amd64.whl (1.1 MB)\n",
      "Requirement already satisfied: cirq-core~=1.0 in c:\\users\\pourya\\anaconda3\\lib\\site-packages (from qsimcirq) (1.3.0)\n",
      "Collecting absl-py\n",
      "  Downloading absl_py-2.1.0-py3-none-any.whl (133 kB)\n",
      "Requirement already satisfied: typing-extensions in c:\\users\\pourya\\anaconda3\\lib\\site-packages (from qsimcirq) (4.12.2)\n",
      "Collecting pybind11\n",
      "  Downloading pybind11-2.13.1-py3-none-any.whl (238 kB)\n",
      "Requirement already satisfied: numpy~=1.16 in c:\\users\\pourya\\anaconda3\\lib\\site-packages (from qsimcirq) (1.26.4)\n",
      "Requirement already satisfied: setuptools in c:\\users\\pourya\\anaconda3\\lib\\site-packages (from qsimcirq) (58.0.4)\n",
      "Requirement already satisfied: duet~=0.2.8 in c:\\users\\pourya\\anaconda3\\lib\\site-packages (from cirq-core~=1.0->qsimcirq) (0.2.9)\n",
      "Requirement already satisfied: tqdm in c:\\users\\pourya\\anaconda3\\lib\\site-packages (from cirq-core~=1.0->qsimcirq) (4.62.3)\n",
      "Requirement already satisfied: scipy in c:\\users\\pourya\\anaconda3\\lib\\site-packages (from cirq-core~=1.0->qsimcirq) (1.13.1)\n",
      "Requirement already satisfied: sympy in c:\\users\\pourya\\anaconda3\\lib\\site-packages (from cirq-core~=1.0->qsimcirq) (1.9)\n",
      "Requirement already satisfied: sortedcontainers~=2.0 in c:\\users\\pourya\\anaconda3\\lib\\site-packages (from cirq-core~=1.0->qsimcirq) (2.4.0)\n",
      "Requirement already satisfied: networkx>=2.4 in c:\\users\\pourya\\anaconda3\\lib\\site-packages (from cirq-core~=1.0->qsimcirq) (2.6.3)\n",
      "Requirement already satisfied: pandas in c:\\users\\pourya\\anaconda3\\lib\\site-packages (from cirq-core~=1.0->qsimcirq) (1.3.4)\n",
      "Requirement already satisfied: matplotlib~=3.0 in c:\\users\\pourya\\anaconda3\\lib\\site-packages (from cirq-core~=1.0->qsimcirq) (3.4.3)\n",
      "Requirement already satisfied: pillow>=6.2.0 in c:\\users\\pourya\\anaconda3\\lib\\site-packages (from matplotlib~=3.0->cirq-core~=1.0->qsimcirq) (8.4.0)\n",
      "Requirement already satisfied: cycler>=0.10 in c:\\users\\pourya\\anaconda3\\lib\\site-packages (from matplotlib~=3.0->cirq-core~=1.0->qsimcirq) (0.10.0)\n",
      "Requirement already satisfied: kiwisolver>=1.0.1 in c:\\users\\pourya\\anaconda3\\lib\\site-packages (from matplotlib~=3.0->cirq-core~=1.0->qsimcirq) (1.3.1)\n",
      "Requirement already satisfied: python-dateutil>=2.7 in c:\\users\\pourya\\anaconda3\\lib\\site-packages (from matplotlib~=3.0->cirq-core~=1.0->qsimcirq) (2.8.2)\n",
      "Requirement already satisfied: pyparsing>=2.2.1 in c:\\users\\pourya\\anaconda3\\lib\\site-packages (from matplotlib~=3.0->cirq-core~=1.0->qsimcirq) (3.0.4)\n",
      "Requirement already satisfied: six in c:\\users\\pourya\\anaconda3\\lib\\site-packages (from cycler>=0.10->matplotlib~=3.0->cirq-core~=1.0->qsimcirq) (1.16.0)\n",
      "Requirement already satisfied: pytz>=2017.3 in c:\\users\\pourya\\anaconda3\\lib\\site-packages (from pandas->cirq-core~=1.0->qsimcirq) (2023.3)\n",
      "Requirement already satisfied: mpmath>=0.19 in c:\\users\\pourya\\anaconda3\\lib\\site-packages (from sympy->cirq-core~=1.0->qsimcirq) (1.2.1)\n",
      "Requirement already satisfied: colorama in c:\\users\\pourya\\anaconda3\\lib\\site-packages (from tqdm->cirq-core~=1.0->qsimcirq) (0.4.4)\n",
      "Installing collected packages: pybind11, absl-py, qsimcirq\n",
      "Successfully installed absl-py-2.1.0 pybind11-2.13.1 qsimcirq-0.21.0\n"
     ]
    }
   ],
   "source": [
    "# Qsim Cirq\n",
    "!pip install qsimcirq"
   ]
  },
  {
   "cell_type": "code",
   "execution_count": null,
   "id": "aa51b03c",
   "metadata": {},
   "outputs": [],
   "source": []
  },
  {
   "cell_type": "code",
   "execution_count": null,
   "id": "adf534c2",
   "metadata": {},
   "outputs": [],
   "source": []
  }
 ],
 "metadata": {
  "kernelspec": {
   "display_name": "Python 3 (ipykernel)",
   "language": "python",
   "name": "python3"
  },
  "language_info": {
   "codemirror_mode": {
    "name": "ipython",
    "version": 3
   },
   "file_extension": ".py",
   "mimetype": "text/x-python",
   "name": "python",
   "nbconvert_exporter": "python",
   "pygments_lexer": "ipython3",
   "version": "3.9.7"
  }
 },
 "nbformat": 4,
 "nbformat_minor": 5
}
