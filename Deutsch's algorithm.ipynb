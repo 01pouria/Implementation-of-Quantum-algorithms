{
 "cells": [
  {
   "cell_type": "code",
   "execution_count": 27,
   "id": "1f34b0e5",
   "metadata": {},
   "outputs": [
    {
     "name": "stdout",
     "output_type": "stream",
     "text": [
      "Circuit for f_0\n",
      "0: ───H───H───M───\n",
      "\n",
      "1: ───X───H───────\n",
      "Circuit for f_1\n",
      "0: ───H───H───M───\n",
      "\n",
      "1: ───X───H───X───\n",
      "Circuit for f_x\n",
      "0: ───H───────@───H───M───\n",
      "              │\n",
      "1: ───X───H───X───────────\n",
      "Circuit for f_notX\n",
      "0: ───H───────@───H───M───\n",
      "              │\n",
      "1: ───X───H───X───X───────\n",
      "0 q(0)=0000000000\n",
      "1 q(0)=0000000000\n",
      "x q(0)=1111111111\n",
      "notX q(0)=1111111111\n"
     ]
    }
   ],
   "source": [
    "import cirq\n",
    "\n",
    "q0,q1=cirq.LineQubit.range(2)\n",
    "\n",
    "oracles = {'0':[],'1':[cirq.X(q1)],'x':[cirq.CNOT(q0,q1)],'notX':[cirq.CNOT(q0,q1),cirq.X(q1)]}\n",
    "\n",
    "def deutschAlgorithm(oracle):\n",
    "    yield cirq.X(q1)\n",
    "    yield cirq.H(q0), cirq.H(q1)\n",
    "    yield oracle\n",
    "    yield cirq.H(q0)\n",
    "    yield cirq.measure(q0)\n",
    "\n",
    "for key, oracle in oracles.items():\n",
    "    print(f'Circuit for f_{key}')\n",
    "    print(cirq.Circuit(deutschAlgorithm(oracle)))\n",
    "    \n",
    "    \n",
    "\n",
    "s = cirq.Simulator()\n",
    "for key, oracle in oracles.items():\n",
    "    r = s.run(cirq.Circuit(deutschAlgorithm(oracle)),repetitions=10)\n",
    "    print(key,r)\n"
   ]
  }
 ],
 "metadata": {
  "kernelspec": {
   "display_name": "Python 3 (ipykernel)",
   "language": "python",
   "name": "python3"
  },
  "language_info": {
   "codemirror_mode": {
    "name": "ipython",
    "version": 3
   },
   "file_extension": ".py",
   "mimetype": "text/x-python",
   "name": "python",
   "nbconvert_exporter": "python",
   "pygments_lexer": "ipython3",
   "version": "3.9.7"
  }
 },
 "nbformat": 4,
 "nbformat_minor": 5
}
